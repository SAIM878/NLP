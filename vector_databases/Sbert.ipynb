{
  "nbformat": 4,
  "nbformat_minor": 0,
  "metadata": {
    "colab": {
      "provenance": []
    },
    "kernelspec": {
      "name": "python3",
      "display_name": "Python 3"
    },
    "language_info": {
      "name": "python"
    },
    "widgets": {
      "application/vnd.jupyter.widget-state+json": {
        "3f6d55cea2bf4975943978e77de22810": {
          "model_module": "@jupyter-widgets/controls",
          "model_name": "HBoxModel",
          "model_module_version": "1.5.0",
          "state": {
            "_dom_classes": [],
            "_model_module": "@jupyter-widgets/controls",
            "_model_module_version": "1.5.0",
            "_model_name": "HBoxModel",
            "_view_count": null,
            "_view_module": "@jupyter-widgets/controls",
            "_view_module_version": "1.5.0",
            "_view_name": "HBoxView",
            "box_style": "",
            "children": [
              "IPY_MODEL_732099a6e2374a5fa2fb76fbdb95c026",
              "IPY_MODEL_47e54ee3e5184758935d9f0b59bd906b",
              "IPY_MODEL_ef46576d43844a209954121445c02813"
            ],
            "layout": "IPY_MODEL_90b86d75821643159fb8f50d2a9c6216"
          }
        },
        "732099a6e2374a5fa2fb76fbdb95c026": {
          "model_module": "@jupyter-widgets/controls",
          "model_name": "HTMLModel",
          "model_module_version": "1.5.0",
          "state": {
            "_dom_classes": [],
            "_model_module": "@jupyter-widgets/controls",
            "_model_module_version": "1.5.0",
            "_model_name": "HTMLModel",
            "_view_count": null,
            "_view_module": "@jupyter-widgets/controls",
            "_view_module_version": "1.5.0",
            "_view_name": "HTMLView",
            "description": "",
            "description_tooltip": null,
            "layout": "IPY_MODEL_f652c212969e4cb3a1a21c708c061977",
            "placeholder": "​",
            "style": "IPY_MODEL_758ad727533f4e24932e28c46d948bec",
            "value": "Batches: 100%"
          }
        },
        "47e54ee3e5184758935d9f0b59bd906b": {
          "model_module": "@jupyter-widgets/controls",
          "model_name": "FloatProgressModel",
          "model_module_version": "1.5.0",
          "state": {
            "_dom_classes": [],
            "_model_module": "@jupyter-widgets/controls",
            "_model_module_version": "1.5.0",
            "_model_name": "FloatProgressModel",
            "_view_count": null,
            "_view_module": "@jupyter-widgets/controls",
            "_view_module_version": "1.5.0",
            "_view_name": "ProgressView",
            "bar_style": "success",
            "description": "",
            "description_tooltip": null,
            "layout": "IPY_MODEL_f2b847640123435399c9eea20af1a8ec",
            "max": 1,
            "min": 0,
            "orientation": "horizontal",
            "style": "IPY_MODEL_966ab6c988f4461f869c3587f0c5a48c",
            "value": 1
          }
        },
        "ef46576d43844a209954121445c02813": {
          "model_module": "@jupyter-widgets/controls",
          "model_name": "HTMLModel",
          "model_module_version": "1.5.0",
          "state": {
            "_dom_classes": [],
            "_model_module": "@jupyter-widgets/controls",
            "_model_module_version": "1.5.0",
            "_model_name": "HTMLModel",
            "_view_count": null,
            "_view_module": "@jupyter-widgets/controls",
            "_view_module_version": "1.5.0",
            "_view_name": "HTMLView",
            "description": "",
            "description_tooltip": null,
            "layout": "IPY_MODEL_d6d135106ca345b09a80fd5ffac4ad2e",
            "placeholder": "​",
            "style": "IPY_MODEL_ad5f8a83f5544710a602015c4ff11890",
            "value": " 1/1 [00:03&lt;00:00,  3.22s/it]"
          }
        },
        "90b86d75821643159fb8f50d2a9c6216": {
          "model_module": "@jupyter-widgets/base",
          "model_name": "LayoutModel",
          "model_module_version": "1.2.0",
          "state": {
            "_model_module": "@jupyter-widgets/base",
            "_model_module_version": "1.2.0",
            "_model_name": "LayoutModel",
            "_view_count": null,
            "_view_module": "@jupyter-widgets/base",
            "_view_module_version": "1.2.0",
            "_view_name": "LayoutView",
            "align_content": null,
            "align_items": null,
            "align_self": null,
            "border": null,
            "bottom": null,
            "display": null,
            "flex": null,
            "flex_flow": null,
            "grid_area": null,
            "grid_auto_columns": null,
            "grid_auto_flow": null,
            "grid_auto_rows": null,
            "grid_column": null,
            "grid_gap": null,
            "grid_row": null,
            "grid_template_areas": null,
            "grid_template_columns": null,
            "grid_template_rows": null,
            "height": null,
            "justify_content": null,
            "justify_items": null,
            "left": null,
            "margin": null,
            "max_height": null,
            "max_width": null,
            "min_height": null,
            "min_width": null,
            "object_fit": null,
            "object_position": null,
            "order": null,
            "overflow": null,
            "overflow_x": null,
            "overflow_y": null,
            "padding": null,
            "right": null,
            "top": null,
            "visibility": null,
            "width": null
          }
        },
        "f652c212969e4cb3a1a21c708c061977": {
          "model_module": "@jupyter-widgets/base",
          "model_name": "LayoutModel",
          "model_module_version": "1.2.0",
          "state": {
            "_model_module": "@jupyter-widgets/base",
            "_model_module_version": "1.2.0",
            "_model_name": "LayoutModel",
            "_view_count": null,
            "_view_module": "@jupyter-widgets/base",
            "_view_module_version": "1.2.0",
            "_view_name": "LayoutView",
            "align_content": null,
            "align_items": null,
            "align_self": null,
            "border": null,
            "bottom": null,
            "display": null,
            "flex": null,
            "flex_flow": null,
            "grid_area": null,
            "grid_auto_columns": null,
            "grid_auto_flow": null,
            "grid_auto_rows": null,
            "grid_column": null,
            "grid_gap": null,
            "grid_row": null,
            "grid_template_areas": null,
            "grid_template_columns": null,
            "grid_template_rows": null,
            "height": null,
            "justify_content": null,
            "justify_items": null,
            "left": null,
            "margin": null,
            "max_height": null,
            "max_width": null,
            "min_height": null,
            "min_width": null,
            "object_fit": null,
            "object_position": null,
            "order": null,
            "overflow": null,
            "overflow_x": null,
            "overflow_y": null,
            "padding": null,
            "right": null,
            "top": null,
            "visibility": null,
            "width": null
          }
        },
        "758ad727533f4e24932e28c46d948bec": {
          "model_module": "@jupyter-widgets/controls",
          "model_name": "DescriptionStyleModel",
          "model_module_version": "1.5.0",
          "state": {
            "_model_module": "@jupyter-widgets/controls",
            "_model_module_version": "1.5.0",
            "_model_name": "DescriptionStyleModel",
            "_view_count": null,
            "_view_module": "@jupyter-widgets/base",
            "_view_module_version": "1.2.0",
            "_view_name": "StyleView",
            "description_width": ""
          }
        },
        "f2b847640123435399c9eea20af1a8ec": {
          "model_module": "@jupyter-widgets/base",
          "model_name": "LayoutModel",
          "model_module_version": "1.2.0",
          "state": {
            "_model_module": "@jupyter-widgets/base",
            "_model_module_version": "1.2.0",
            "_model_name": "LayoutModel",
            "_view_count": null,
            "_view_module": "@jupyter-widgets/base",
            "_view_module_version": "1.2.0",
            "_view_name": "LayoutView",
            "align_content": null,
            "align_items": null,
            "align_self": null,
            "border": null,
            "bottom": null,
            "display": null,
            "flex": null,
            "flex_flow": null,
            "grid_area": null,
            "grid_auto_columns": null,
            "grid_auto_flow": null,
            "grid_auto_rows": null,
            "grid_column": null,
            "grid_gap": null,
            "grid_row": null,
            "grid_template_areas": null,
            "grid_template_columns": null,
            "grid_template_rows": null,
            "height": null,
            "justify_content": null,
            "justify_items": null,
            "left": null,
            "margin": null,
            "max_height": null,
            "max_width": null,
            "min_height": null,
            "min_width": null,
            "object_fit": null,
            "object_position": null,
            "order": null,
            "overflow": null,
            "overflow_x": null,
            "overflow_y": null,
            "padding": null,
            "right": null,
            "top": null,
            "visibility": null,
            "width": null
          }
        },
        "966ab6c988f4461f869c3587f0c5a48c": {
          "model_module": "@jupyter-widgets/controls",
          "model_name": "ProgressStyleModel",
          "model_module_version": "1.5.0",
          "state": {
            "_model_module": "@jupyter-widgets/controls",
            "_model_module_version": "1.5.0",
            "_model_name": "ProgressStyleModel",
            "_view_count": null,
            "_view_module": "@jupyter-widgets/base",
            "_view_module_version": "1.2.0",
            "_view_name": "StyleView",
            "bar_color": null,
            "description_width": ""
          }
        },
        "d6d135106ca345b09a80fd5ffac4ad2e": {
          "model_module": "@jupyter-widgets/base",
          "model_name": "LayoutModel",
          "model_module_version": "1.2.0",
          "state": {
            "_model_module": "@jupyter-widgets/base",
            "_model_module_version": "1.2.0",
            "_model_name": "LayoutModel",
            "_view_count": null,
            "_view_module": "@jupyter-widgets/base",
            "_view_module_version": "1.2.0",
            "_view_name": "LayoutView",
            "align_content": null,
            "align_items": null,
            "align_self": null,
            "border": null,
            "bottom": null,
            "display": null,
            "flex": null,
            "flex_flow": null,
            "grid_area": null,
            "grid_auto_columns": null,
            "grid_auto_flow": null,
            "grid_auto_rows": null,
            "grid_column": null,
            "grid_gap": null,
            "grid_row": null,
            "grid_template_areas": null,
            "grid_template_columns": null,
            "grid_template_rows": null,
            "height": null,
            "justify_content": null,
            "justify_items": null,
            "left": null,
            "margin": null,
            "max_height": null,
            "max_width": null,
            "min_height": null,
            "min_width": null,
            "object_fit": null,
            "object_position": null,
            "order": null,
            "overflow": null,
            "overflow_x": null,
            "overflow_y": null,
            "padding": null,
            "right": null,
            "top": null,
            "visibility": null,
            "width": null
          }
        },
        "ad5f8a83f5544710a602015c4ff11890": {
          "model_module": "@jupyter-widgets/controls",
          "model_name": "DescriptionStyleModel",
          "model_module_version": "1.5.0",
          "state": {
            "_model_module": "@jupyter-widgets/controls",
            "_model_module_version": "1.5.0",
            "_model_name": "DescriptionStyleModel",
            "_view_count": null,
            "_view_module": "@jupyter-widgets/base",
            "_view_module_version": "1.2.0",
            "_view_name": "StyleView",
            "description_width": ""
          }
        },
        "ed056ef23c2d4708b34e6a163dfde743": {
          "model_module": "@jupyter-widgets/controls",
          "model_name": "HBoxModel",
          "model_module_version": "1.5.0",
          "state": {
            "_dom_classes": [],
            "_model_module": "@jupyter-widgets/controls",
            "_model_module_version": "1.5.0",
            "_model_name": "HBoxModel",
            "_view_count": null,
            "_view_module": "@jupyter-widgets/controls",
            "_view_module_version": "1.5.0",
            "_view_name": "HBoxView",
            "box_style": "",
            "children": [
              "IPY_MODEL_875356eeb159462a9a3508b3124685b8",
              "IPY_MODEL_672047bc94314cb4ac3aea0079d335cb",
              "IPY_MODEL_675303130ede43d3b31d87f96d1ea942"
            ],
            "layout": "IPY_MODEL_95ae7e9727fb49d4bc41a3f3af0113c9"
          }
        },
        "875356eeb159462a9a3508b3124685b8": {
          "model_module": "@jupyter-widgets/controls",
          "model_name": "HTMLModel",
          "model_module_version": "1.5.0",
          "state": {
            "_dom_classes": [],
            "_model_module": "@jupyter-widgets/controls",
            "_model_module_version": "1.5.0",
            "_model_name": "HTMLModel",
            "_view_count": null,
            "_view_module": "@jupyter-widgets/controls",
            "_view_module_version": "1.5.0",
            "_view_name": "HTMLView",
            "description": "",
            "description_tooltip": null,
            "layout": "IPY_MODEL_016cd44b57b741fbb8be4560f60a8141",
            "placeholder": "​",
            "style": "IPY_MODEL_d9db4f91991c46a9b67d296940363724",
            "value": "Computing widget examples:   0%"
          }
        },
        "672047bc94314cb4ac3aea0079d335cb": {
          "model_module": "@jupyter-widgets/controls",
          "model_name": "FloatProgressModel",
          "model_module_version": "1.5.0",
          "state": {
            "_dom_classes": [],
            "_model_module": "@jupyter-widgets/controls",
            "_model_module_version": "1.5.0",
            "_model_name": "FloatProgressModel",
            "_view_count": null,
            "_view_module": "@jupyter-widgets/controls",
            "_view_module_version": "1.5.0",
            "_view_name": "ProgressView",
            "bar_style": "",
            "description": "",
            "description_tooltip": null,
            "layout": "IPY_MODEL_93f7bf6ece874673bc1cb1c8c0816499",
            "max": 1,
            "min": 0,
            "orientation": "horizontal",
            "style": "IPY_MODEL_7364972f360549a48251c23dac99cc8c",
            "value": 1
          }
        },
        "675303130ede43d3b31d87f96d1ea942": {
          "model_module": "@jupyter-widgets/controls",
          "model_name": "HTMLModel",
          "model_module_version": "1.5.0",
          "state": {
            "_dom_classes": [],
            "_model_module": "@jupyter-widgets/controls",
            "_model_module_version": "1.5.0",
            "_model_name": "HTMLModel",
            "_view_count": null,
            "_view_module": "@jupyter-widgets/controls",
            "_view_module_version": "1.5.0",
            "_view_name": "HTMLView",
            "description": "",
            "description_tooltip": null,
            "layout": "IPY_MODEL_34914e2335ff4ed6b1f4441099565a6a",
            "placeholder": "​",
            "style": "IPY_MODEL_49bddeac190e4c928978dd087d02f24b",
            "value": " 0/1 [00:00&lt;?, ?example/s]"
          }
        },
        "95ae7e9727fb49d4bc41a3f3af0113c9": {
          "model_module": "@jupyter-widgets/base",
          "model_name": "LayoutModel",
          "model_module_version": "1.2.0",
          "state": {
            "_model_module": "@jupyter-widgets/base",
            "_model_module_version": "1.2.0",
            "_model_name": "LayoutModel",
            "_view_count": null,
            "_view_module": "@jupyter-widgets/base",
            "_view_module_version": "1.2.0",
            "_view_name": "LayoutView",
            "align_content": null,
            "align_items": null,
            "align_self": null,
            "border": null,
            "bottom": null,
            "display": null,
            "flex": null,
            "flex_flow": null,
            "grid_area": null,
            "grid_auto_columns": null,
            "grid_auto_flow": null,
            "grid_auto_rows": null,
            "grid_column": null,
            "grid_gap": null,
            "grid_row": null,
            "grid_template_areas": null,
            "grid_template_columns": null,
            "grid_template_rows": null,
            "height": null,
            "justify_content": null,
            "justify_items": null,
            "left": null,
            "margin": null,
            "max_height": null,
            "max_width": null,
            "min_height": null,
            "min_width": null,
            "object_fit": null,
            "object_position": null,
            "order": null,
            "overflow": null,
            "overflow_x": null,
            "overflow_y": null,
            "padding": null,
            "right": null,
            "top": null,
            "visibility": "hidden",
            "width": null
          }
        },
        "016cd44b57b741fbb8be4560f60a8141": {
          "model_module": "@jupyter-widgets/base",
          "model_name": "LayoutModel",
          "model_module_version": "1.2.0",
          "state": {
            "_model_module": "@jupyter-widgets/base",
            "_model_module_version": "1.2.0",
            "_model_name": "LayoutModel",
            "_view_count": null,
            "_view_module": "@jupyter-widgets/base",
            "_view_module_version": "1.2.0",
            "_view_name": "LayoutView",
            "align_content": null,
            "align_items": null,
            "align_self": null,
            "border": null,
            "bottom": null,
            "display": null,
            "flex": null,
            "flex_flow": null,
            "grid_area": null,
            "grid_auto_columns": null,
            "grid_auto_flow": null,
            "grid_auto_rows": null,
            "grid_column": null,
            "grid_gap": null,
            "grid_row": null,
            "grid_template_areas": null,
            "grid_template_columns": null,
            "grid_template_rows": null,
            "height": null,
            "justify_content": null,
            "justify_items": null,
            "left": null,
            "margin": null,
            "max_height": null,
            "max_width": null,
            "min_height": null,
            "min_width": null,
            "object_fit": null,
            "object_position": null,
            "order": null,
            "overflow": null,
            "overflow_x": null,
            "overflow_y": null,
            "padding": null,
            "right": null,
            "top": null,
            "visibility": null,
            "width": null
          }
        },
        "d9db4f91991c46a9b67d296940363724": {
          "model_module": "@jupyter-widgets/controls",
          "model_name": "DescriptionStyleModel",
          "model_module_version": "1.5.0",
          "state": {
            "_model_module": "@jupyter-widgets/controls",
            "_model_module_version": "1.5.0",
            "_model_name": "DescriptionStyleModel",
            "_view_count": null,
            "_view_module": "@jupyter-widgets/base",
            "_view_module_version": "1.2.0",
            "_view_name": "StyleView",
            "description_width": ""
          }
        },
        "93f7bf6ece874673bc1cb1c8c0816499": {
          "model_module": "@jupyter-widgets/base",
          "model_name": "LayoutModel",
          "model_module_version": "1.2.0",
          "state": {
            "_model_module": "@jupyter-widgets/base",
            "_model_module_version": "1.2.0",
            "_model_name": "LayoutModel",
            "_view_count": null,
            "_view_module": "@jupyter-widgets/base",
            "_view_module_version": "1.2.0",
            "_view_name": "LayoutView",
            "align_content": null,
            "align_items": null,
            "align_self": null,
            "border": null,
            "bottom": null,
            "display": null,
            "flex": null,
            "flex_flow": null,
            "grid_area": null,
            "grid_auto_columns": null,
            "grid_auto_flow": null,
            "grid_auto_rows": null,
            "grid_column": null,
            "grid_gap": null,
            "grid_row": null,
            "grid_template_areas": null,
            "grid_template_columns": null,
            "grid_template_rows": null,
            "height": null,
            "justify_content": null,
            "justify_items": null,
            "left": null,
            "margin": null,
            "max_height": null,
            "max_width": null,
            "min_height": null,
            "min_width": null,
            "object_fit": null,
            "object_position": null,
            "order": null,
            "overflow": null,
            "overflow_x": null,
            "overflow_y": null,
            "padding": null,
            "right": null,
            "top": null,
            "visibility": null,
            "width": null
          }
        },
        "7364972f360549a48251c23dac99cc8c": {
          "model_module": "@jupyter-widgets/controls",
          "model_name": "ProgressStyleModel",
          "model_module_version": "1.5.0",
          "state": {
            "_model_module": "@jupyter-widgets/controls",
            "_model_module_version": "1.5.0",
            "_model_name": "ProgressStyleModel",
            "_view_count": null,
            "_view_module": "@jupyter-widgets/base",
            "_view_module_version": "1.2.0",
            "_view_name": "StyleView",
            "bar_color": null,
            "description_width": ""
          }
        },
        "34914e2335ff4ed6b1f4441099565a6a": {
          "model_module": "@jupyter-widgets/base",
          "model_name": "LayoutModel",
          "model_module_version": "1.2.0",
          "state": {
            "_model_module": "@jupyter-widgets/base",
            "_model_module_version": "1.2.0",
            "_model_name": "LayoutModel",
            "_view_count": null,
            "_view_module": "@jupyter-widgets/base",
            "_view_module_version": "1.2.0",
            "_view_name": "LayoutView",
            "align_content": null,
            "align_items": null,
            "align_self": null,
            "border": null,
            "bottom": null,
            "display": null,
            "flex": null,
            "flex_flow": null,
            "grid_area": null,
            "grid_auto_columns": null,
            "grid_auto_flow": null,
            "grid_auto_rows": null,
            "grid_column": null,
            "grid_gap": null,
            "grid_row": null,
            "grid_template_areas": null,
            "grid_template_columns": null,
            "grid_template_rows": null,
            "height": null,
            "justify_content": null,
            "justify_items": null,
            "left": null,
            "margin": null,
            "max_height": null,
            "max_width": null,
            "min_height": null,
            "min_width": null,
            "object_fit": null,
            "object_position": null,
            "order": null,
            "overflow": null,
            "overflow_x": null,
            "overflow_y": null,
            "padding": null,
            "right": null,
            "top": null,
            "visibility": null,
            "width": null
          }
        },
        "49bddeac190e4c928978dd087d02f24b": {
          "model_module": "@jupyter-widgets/controls",
          "model_name": "DescriptionStyleModel",
          "model_module_version": "1.5.0",
          "state": {
            "_model_module": "@jupyter-widgets/controls",
            "_model_module_version": "1.5.0",
            "_model_name": "DescriptionStyleModel",
            "_view_count": null,
            "_view_module": "@jupyter-widgets/base",
            "_view_module_version": "1.2.0",
            "_view_name": "StyleView",
            "description_width": ""
          }
        },
        "afb6ead9ce854d86b898879198058a05": {
          "model_module": "@jupyter-widgets/controls",
          "model_name": "HBoxModel",
          "model_module_version": "1.5.0",
          "state": {
            "_dom_classes": [],
            "_model_module": "@jupyter-widgets/controls",
            "_model_module_version": "1.5.0",
            "_model_name": "HBoxModel",
            "_view_count": null,
            "_view_module": "@jupyter-widgets/controls",
            "_view_module_version": "1.5.0",
            "_view_name": "HBoxView",
            "box_style": "",
            "children": [
              "IPY_MODEL_1550878037744deb8f8006674e20f5fa",
              "IPY_MODEL_8bb813d92d7e459daa0ed9fd6b853991",
              "IPY_MODEL_a1c13e99cb5449b683dd559675a2c326"
            ],
            "layout": "IPY_MODEL_1aba41654a754143b88226e71e9d404c"
          }
        },
        "1550878037744deb8f8006674e20f5fa": {
          "model_module": "@jupyter-widgets/controls",
          "model_name": "HTMLModel",
          "model_module_version": "1.5.0",
          "state": {
            "_dom_classes": [],
            "_model_module": "@jupyter-widgets/controls",
            "_model_module_version": "1.5.0",
            "_model_name": "HTMLModel",
            "_view_count": null,
            "_view_module": "@jupyter-widgets/controls",
            "_view_module_version": "1.5.0",
            "_view_name": "HTMLView",
            "description": "",
            "description_tooltip": null,
            "layout": "IPY_MODEL_547347d1ac73455b9bec5177e1bb8037",
            "placeholder": "​",
            "style": "IPY_MODEL_60622379df674956ad01da8368693531",
            "value": "Computing widget examples:   0%"
          }
        },
        "8bb813d92d7e459daa0ed9fd6b853991": {
          "model_module": "@jupyter-widgets/controls",
          "model_name": "FloatProgressModel",
          "model_module_version": "1.5.0",
          "state": {
            "_dom_classes": [],
            "_model_module": "@jupyter-widgets/controls",
            "_model_module_version": "1.5.0",
            "_model_name": "FloatProgressModel",
            "_view_count": null,
            "_view_module": "@jupyter-widgets/controls",
            "_view_module_version": "1.5.0",
            "_view_name": "ProgressView",
            "bar_style": "",
            "description": "",
            "description_tooltip": null,
            "layout": "IPY_MODEL_a14ca4af85534c53a1ebdeaf8c2dbcc3",
            "max": 1,
            "min": 0,
            "orientation": "horizontal",
            "style": "IPY_MODEL_a6dfd0f0972445c2a2d72719c70f0bb0",
            "value": 1
          }
        },
        "a1c13e99cb5449b683dd559675a2c326": {
          "model_module": "@jupyter-widgets/controls",
          "model_name": "HTMLModel",
          "model_module_version": "1.5.0",
          "state": {
            "_dom_classes": [],
            "_model_module": "@jupyter-widgets/controls",
            "_model_module_version": "1.5.0",
            "_model_name": "HTMLModel",
            "_view_count": null,
            "_view_module": "@jupyter-widgets/controls",
            "_view_module_version": "1.5.0",
            "_view_name": "HTMLView",
            "description": "",
            "description_tooltip": null,
            "layout": "IPY_MODEL_7093842b0b074f7297d0d6e39e724042",
            "placeholder": "​",
            "style": "IPY_MODEL_b13fd4ecf6d8412d9da553bdb2e1aa7c",
            "value": " 0/1 [00:00&lt;?, ?example/s]"
          }
        },
        "1aba41654a754143b88226e71e9d404c": {
          "model_module": "@jupyter-widgets/base",
          "model_name": "LayoutModel",
          "model_module_version": "1.2.0",
          "state": {
            "_model_module": "@jupyter-widgets/base",
            "_model_module_version": "1.2.0",
            "_model_name": "LayoutModel",
            "_view_count": null,
            "_view_module": "@jupyter-widgets/base",
            "_view_module_version": "1.2.0",
            "_view_name": "LayoutView",
            "align_content": null,
            "align_items": null,
            "align_self": null,
            "border": null,
            "bottom": null,
            "display": null,
            "flex": null,
            "flex_flow": null,
            "grid_area": null,
            "grid_auto_columns": null,
            "grid_auto_flow": null,
            "grid_auto_rows": null,
            "grid_column": null,
            "grid_gap": null,
            "grid_row": null,
            "grid_template_areas": null,
            "grid_template_columns": null,
            "grid_template_rows": null,
            "height": null,
            "justify_content": null,
            "justify_items": null,
            "left": null,
            "margin": null,
            "max_height": null,
            "max_width": null,
            "min_height": null,
            "min_width": null,
            "object_fit": null,
            "object_position": null,
            "order": null,
            "overflow": null,
            "overflow_x": null,
            "overflow_y": null,
            "padding": null,
            "right": null,
            "top": null,
            "visibility": "hidden",
            "width": null
          }
        },
        "547347d1ac73455b9bec5177e1bb8037": {
          "model_module": "@jupyter-widgets/base",
          "model_name": "LayoutModel",
          "model_module_version": "1.2.0",
          "state": {
            "_model_module": "@jupyter-widgets/base",
            "_model_module_version": "1.2.0",
            "_model_name": "LayoutModel",
            "_view_count": null,
            "_view_module": "@jupyter-widgets/base",
            "_view_module_version": "1.2.0",
            "_view_name": "LayoutView",
            "align_content": null,
            "align_items": null,
            "align_self": null,
            "border": null,
            "bottom": null,
            "display": null,
            "flex": null,
            "flex_flow": null,
            "grid_area": null,
            "grid_auto_columns": null,
            "grid_auto_flow": null,
            "grid_auto_rows": null,
            "grid_column": null,
            "grid_gap": null,
            "grid_row": null,
            "grid_template_areas": null,
            "grid_template_columns": null,
            "grid_template_rows": null,
            "height": null,
            "justify_content": null,
            "justify_items": null,
            "left": null,
            "margin": null,
            "max_height": null,
            "max_width": null,
            "min_height": null,
            "min_width": null,
            "object_fit": null,
            "object_position": null,
            "order": null,
            "overflow": null,
            "overflow_x": null,
            "overflow_y": null,
            "padding": null,
            "right": null,
            "top": null,
            "visibility": null,
            "width": null
          }
        },
        "60622379df674956ad01da8368693531": {
          "model_module": "@jupyter-widgets/controls",
          "model_name": "DescriptionStyleModel",
          "model_module_version": "1.5.0",
          "state": {
            "_model_module": "@jupyter-widgets/controls",
            "_model_module_version": "1.5.0",
            "_model_name": "DescriptionStyleModel",
            "_view_count": null,
            "_view_module": "@jupyter-widgets/base",
            "_view_module_version": "1.2.0",
            "_view_name": "StyleView",
            "description_width": ""
          }
        },
        "a14ca4af85534c53a1ebdeaf8c2dbcc3": {
          "model_module": "@jupyter-widgets/base",
          "model_name": "LayoutModel",
          "model_module_version": "1.2.0",
          "state": {
            "_model_module": "@jupyter-widgets/base",
            "_model_module_version": "1.2.0",
            "_model_name": "LayoutModel",
            "_view_count": null,
            "_view_module": "@jupyter-widgets/base",
            "_view_module_version": "1.2.0",
            "_view_name": "LayoutView",
            "align_content": null,
            "align_items": null,
            "align_self": null,
            "border": null,
            "bottom": null,
            "display": null,
            "flex": null,
            "flex_flow": null,
            "grid_area": null,
            "grid_auto_columns": null,
            "grid_auto_flow": null,
            "grid_auto_rows": null,
            "grid_column": null,
            "grid_gap": null,
            "grid_row": null,
            "grid_template_areas": null,
            "grid_template_columns": null,
            "grid_template_rows": null,
            "height": null,
            "justify_content": null,
            "justify_items": null,
            "left": null,
            "margin": null,
            "max_height": null,
            "max_width": null,
            "min_height": null,
            "min_width": null,
            "object_fit": null,
            "object_position": null,
            "order": null,
            "overflow": null,
            "overflow_x": null,
            "overflow_y": null,
            "padding": null,
            "right": null,
            "top": null,
            "visibility": null,
            "width": null
          }
        },
        "a6dfd0f0972445c2a2d72719c70f0bb0": {
          "model_module": "@jupyter-widgets/controls",
          "model_name": "ProgressStyleModel",
          "model_module_version": "1.5.0",
          "state": {
            "_model_module": "@jupyter-widgets/controls",
            "_model_module_version": "1.5.0",
            "_model_name": "ProgressStyleModel",
            "_view_count": null,
            "_view_module": "@jupyter-widgets/base",
            "_view_module_version": "1.2.0",
            "_view_name": "StyleView",
            "bar_color": null,
            "description_width": ""
          }
        },
        "7093842b0b074f7297d0d6e39e724042": {
          "model_module": "@jupyter-widgets/base",
          "model_name": "LayoutModel",
          "model_module_version": "1.2.0",
          "state": {
            "_model_module": "@jupyter-widgets/base",
            "_model_module_version": "1.2.0",
            "_model_name": "LayoutModel",
            "_view_count": null,
            "_view_module": "@jupyter-widgets/base",
            "_view_module_version": "1.2.0",
            "_view_name": "LayoutView",
            "align_content": null,
            "align_items": null,
            "align_self": null,
            "border": null,
            "bottom": null,
            "display": null,
            "flex": null,
            "flex_flow": null,
            "grid_area": null,
            "grid_auto_columns": null,
            "grid_auto_flow": null,
            "grid_auto_rows": null,
            "grid_column": null,
            "grid_gap": null,
            "grid_row": null,
            "grid_template_areas": null,
            "grid_template_columns": null,
            "grid_template_rows": null,
            "height": null,
            "justify_content": null,
            "justify_items": null,
            "left": null,
            "margin": null,
            "max_height": null,
            "max_width": null,
            "min_height": null,
            "min_width": null,
            "object_fit": null,
            "object_position": null,
            "order": null,
            "overflow": null,
            "overflow_x": null,
            "overflow_y": null,
            "padding": null,
            "right": null,
            "top": null,
            "visibility": null,
            "width": null
          }
        },
        "b13fd4ecf6d8412d9da553bdb2e1aa7c": {
          "model_module": "@jupyter-widgets/controls",
          "model_name": "DescriptionStyleModel",
          "model_module_version": "1.5.0",
          "state": {
            "_model_module": "@jupyter-widgets/controls",
            "_model_module_version": "1.5.0",
            "_model_name": "DescriptionStyleModel",
            "_view_count": null,
            "_view_module": "@jupyter-widgets/base",
            "_view_module_version": "1.2.0",
            "_view_name": "StyleView",
            "description_width": ""
          }
        }
      }
    }
  },
  "cells": [
    {
      "cell_type": "code",
      "execution_count": 1,
      "metadata": {
        "colab": {
          "base_uri": "https://localhost:8080/"
        },
        "id": "WOseq2ndtO23",
        "outputId": "8293b446-07db-42d1-d388-71b54eb54a70"
      },
      "outputs": [
        {
          "output_type": "stream",
          "name": "stdout",
          "text": [
            "Requirement already satisfied: transformers in /usr/local/lib/python3.10/dist-packages (4.42.4)\n",
            "Requirement already satisfied: filelock in /usr/local/lib/python3.10/dist-packages (from transformers) (3.15.4)\n",
            "Requirement already satisfied: huggingface-hub<1.0,>=0.23.2 in /usr/local/lib/python3.10/dist-packages (from transformers) (0.23.5)\n",
            "Requirement already satisfied: numpy<2.0,>=1.17 in /usr/local/lib/python3.10/dist-packages (from transformers) (1.26.4)\n",
            "Requirement already satisfied: packaging>=20.0 in /usr/local/lib/python3.10/dist-packages (from transformers) (24.1)\n",
            "Requirement already satisfied: pyyaml>=5.1 in /usr/local/lib/python3.10/dist-packages (from transformers) (6.0.1)\n",
            "Requirement already satisfied: regex!=2019.12.17 in /usr/local/lib/python3.10/dist-packages (from transformers) (2024.5.15)\n",
            "Requirement already satisfied: requests in /usr/local/lib/python3.10/dist-packages (from transformers) (2.32.3)\n",
            "Requirement already satisfied: safetensors>=0.4.1 in /usr/local/lib/python3.10/dist-packages (from transformers) (0.4.3)\n",
            "Requirement already satisfied: tokenizers<0.20,>=0.19 in /usr/local/lib/python3.10/dist-packages (from transformers) (0.19.1)\n",
            "Requirement already satisfied: tqdm>=4.27 in /usr/local/lib/python3.10/dist-packages (from transformers) (4.66.4)\n",
            "Requirement already satisfied: fsspec>=2023.5.0 in /usr/local/lib/python3.10/dist-packages (from huggingface-hub<1.0,>=0.23.2->transformers) (2024.5.0)\n",
            "Requirement already satisfied: typing-extensions>=3.7.4.3 in /usr/local/lib/python3.10/dist-packages (from huggingface-hub<1.0,>=0.23.2->transformers) (4.12.2)\n",
            "Requirement already satisfied: charset-normalizer<4,>=2 in /usr/local/lib/python3.10/dist-packages (from requests->transformers) (3.3.2)\n",
            "Requirement already satisfied: idna<4,>=2.5 in /usr/local/lib/python3.10/dist-packages (from requests->transformers) (3.7)\n",
            "Requirement already satisfied: urllib3<3,>=1.21.1 in /usr/local/lib/python3.10/dist-packages (from requests->transformers) (2.0.7)\n",
            "Requirement already satisfied: certifi>=2017.4.17 in /usr/local/lib/python3.10/dist-packages (from requests->transformers) (2024.7.4)\n"
          ]
        }
      ],
      "source": [
        "!pip install transformers"
      ]
    },
    {
      "cell_type": "code",
      "source": [
        "!pip install datasets"
      ],
      "metadata": {
        "colab": {
          "base_uri": "https://localhost:8080/"
        },
        "id": "huyCKzZdBP7N",
        "outputId": "7b7a0eec-7a78-4802-cfbd-0b2a54378126"
      },
      "execution_count": 2,
      "outputs": [
        {
          "output_type": "stream",
          "name": "stdout",
          "text": [
            "Requirement already satisfied: datasets in /usr/local/lib/python3.10/dist-packages (2.20.0)\n",
            "Requirement already satisfied: filelock in /usr/local/lib/python3.10/dist-packages (from datasets) (3.15.4)\n",
            "Requirement already satisfied: numpy>=1.17 in /usr/local/lib/python3.10/dist-packages (from datasets) (1.26.4)\n",
            "Requirement already satisfied: pyarrow>=15.0.0 in /usr/local/lib/python3.10/dist-packages (from datasets) (17.0.0)\n",
            "Requirement already satisfied: pyarrow-hotfix in /usr/local/lib/python3.10/dist-packages (from datasets) (0.6)\n",
            "Requirement already satisfied: dill<0.3.9,>=0.3.0 in /usr/local/lib/python3.10/dist-packages (from datasets) (0.3.8)\n",
            "Requirement already satisfied: pandas in /usr/local/lib/python3.10/dist-packages (from datasets) (2.1.4)\n",
            "Requirement already satisfied: requests>=2.32.2 in /usr/local/lib/python3.10/dist-packages (from datasets) (2.32.3)\n",
            "Requirement already satisfied: tqdm>=4.66.3 in /usr/local/lib/python3.10/dist-packages (from datasets) (4.66.4)\n",
            "Requirement already satisfied: xxhash in /usr/local/lib/python3.10/dist-packages (from datasets) (3.4.1)\n",
            "Requirement already satisfied: multiprocess in /usr/local/lib/python3.10/dist-packages (from datasets) (0.70.16)\n",
            "Requirement already satisfied: fsspec<=2024.5.0,>=2023.1.0 in /usr/local/lib/python3.10/dist-packages (from fsspec[http]<=2024.5.0,>=2023.1.0->datasets) (2024.5.0)\n",
            "Requirement already satisfied: aiohttp in /usr/local/lib/python3.10/dist-packages (from datasets) (3.9.5)\n",
            "Requirement already satisfied: huggingface-hub>=0.21.2 in /usr/local/lib/python3.10/dist-packages (from datasets) (0.23.5)\n",
            "Requirement already satisfied: packaging in /usr/local/lib/python3.10/dist-packages (from datasets) (24.1)\n",
            "Requirement already satisfied: pyyaml>=5.1 in /usr/local/lib/python3.10/dist-packages (from datasets) (6.0.1)\n",
            "Requirement already satisfied: aiosignal>=1.1.2 in /usr/local/lib/python3.10/dist-packages (from aiohttp->datasets) (1.3.1)\n",
            "Requirement already satisfied: attrs>=17.3.0 in /usr/local/lib/python3.10/dist-packages (from aiohttp->datasets) (23.2.0)\n",
            "Requirement already satisfied: frozenlist>=1.1.1 in /usr/local/lib/python3.10/dist-packages (from aiohttp->datasets) (1.4.1)\n",
            "Requirement already satisfied: multidict<7.0,>=4.5 in /usr/local/lib/python3.10/dist-packages (from aiohttp->datasets) (6.0.5)\n",
            "Requirement already satisfied: yarl<2.0,>=1.0 in /usr/local/lib/python3.10/dist-packages (from aiohttp->datasets) (1.9.4)\n",
            "Requirement already satisfied: async-timeout<5.0,>=4.0 in /usr/local/lib/python3.10/dist-packages (from aiohttp->datasets) (4.0.3)\n",
            "Requirement already satisfied: typing-extensions>=3.7.4.3 in /usr/local/lib/python3.10/dist-packages (from huggingface-hub>=0.21.2->datasets) (4.12.2)\n",
            "Requirement already satisfied: charset-normalizer<4,>=2 in /usr/local/lib/python3.10/dist-packages (from requests>=2.32.2->datasets) (3.3.2)\n",
            "Requirement already satisfied: idna<4,>=2.5 in /usr/local/lib/python3.10/dist-packages (from requests>=2.32.2->datasets) (3.7)\n",
            "Requirement already satisfied: urllib3<3,>=1.21.1 in /usr/local/lib/python3.10/dist-packages (from requests>=2.32.2->datasets) (2.0.7)\n",
            "Requirement already satisfied: certifi>=2017.4.17 in /usr/local/lib/python3.10/dist-packages (from requests>=2.32.2->datasets) (2024.7.4)\n",
            "Requirement already satisfied: python-dateutil>=2.8.2 in /usr/local/lib/python3.10/dist-packages (from pandas->datasets) (2.8.2)\n",
            "Requirement already satisfied: pytz>=2020.1 in /usr/local/lib/python3.10/dist-packages (from pandas->datasets) (2024.1)\n",
            "Requirement already satisfied: tzdata>=2022.1 in /usr/local/lib/python3.10/dist-packages (from pandas->datasets) (2024.1)\n",
            "Requirement already satisfied: six>=1.5 in /usr/local/lib/python3.10/dist-packages (from python-dateutil>=2.8.2->pandas->datasets) (1.16.0)\n"
          ]
        }
      ]
    },
    {
      "cell_type": "code",
      "source": [
        "!pip install SentenceTransformer"
      ],
      "metadata": {
        "colab": {
          "base_uri": "https://localhost:8080/"
        },
        "id": "c2I3Oq-oCL6C",
        "outputId": "c769fbb6-4cf6-4ba0-d02a-ce16170818ef"
      },
      "execution_count": 31,
      "outputs": [
        {
          "output_type": "stream",
          "name": "stdout",
          "text": [
            "\u001b[31mERROR: Could not find a version that satisfies the requirement SentenceTransformer (from versions: none)\u001b[0m\u001b[31m\n",
            "\u001b[0m\u001b[31mERROR: No matching distribution found for SentenceTransformer\u001b[0m\u001b[31m\n",
            "\u001b[0m"
          ]
        }
      ]
    },
    {
      "cell_type": "code",
      "source": [
        "from datasets import Dataset"
      ],
      "metadata": {
        "id": "jilqA1IUBSgL"
      },
      "execution_count": 3,
      "outputs": []
    },
    {
      "cell_type": "code",
      "source": [
        "!pip install sentence-transformers --prograss-bar off"
      ],
      "metadata": {
        "colab": {
          "base_uri": "https://localhost:8080/"
        },
        "id": "mXIaz8_CwtJ5",
        "outputId": "da0c7668-9711-4504-b664-cdb192fe17cf"
      },
      "execution_count": 4,
      "outputs": [
        {
          "output_type": "stream",
          "name": "stdout",
          "text": [
            "\n",
            "Usage:   \n",
            "  pip install [options] <requirement specifier> [package-index-options] ...\n",
            "  pip install [options] -r <requirements file> [package-index-options] ...\n",
            "  pip install [options] [-e] <vcs project url> ...\n",
            "  pip install [options] [-e] <local project path> ...\n",
            "  pip install [options] <archive url/path> ...\n",
            "\n",
            "no such option: --prograss-bar\n"
          ]
        }
      ]
    },
    {
      "cell_type": "code",
      "source": [
        "!pip install -U sentence-transformers"
      ],
      "metadata": {
        "colab": {
          "base_uri": "https://localhost:8080/"
        },
        "id": "tccFVUkdwVej",
        "outputId": "5217cc8c-cff8-404e-c466-387b2559c2ca"
      },
      "execution_count": 5,
      "outputs": [
        {
          "output_type": "stream",
          "name": "stdout",
          "text": [
            "Requirement already satisfied: sentence-transformers in /usr/local/lib/python3.10/dist-packages (3.0.1)\n",
            "Requirement already satisfied: transformers<5.0.0,>=4.34.0 in /usr/local/lib/python3.10/dist-packages (from sentence-transformers) (4.42.4)\n",
            "Requirement already satisfied: tqdm in /usr/local/lib/python3.10/dist-packages (from sentence-transformers) (4.66.4)\n",
            "Requirement already satisfied: torch>=1.11.0 in /usr/local/lib/python3.10/dist-packages (from sentence-transformers) (2.3.1+cu121)\n",
            "Requirement already satisfied: numpy in /usr/local/lib/python3.10/dist-packages (from sentence-transformers) (1.26.4)\n",
            "Requirement already satisfied: scikit-learn in /usr/local/lib/python3.10/dist-packages (from sentence-transformers) (1.3.2)\n",
            "Requirement already satisfied: scipy in /usr/local/lib/python3.10/dist-packages (from sentence-transformers) (1.13.1)\n",
            "Requirement already satisfied: huggingface-hub>=0.15.1 in /usr/local/lib/python3.10/dist-packages (from sentence-transformers) (0.23.5)\n",
            "Requirement already satisfied: Pillow in /usr/local/lib/python3.10/dist-packages (from sentence-transformers) (9.4.0)\n",
            "Requirement already satisfied: filelock in /usr/local/lib/python3.10/dist-packages (from huggingface-hub>=0.15.1->sentence-transformers) (3.15.4)\n",
            "Requirement already satisfied: fsspec>=2023.5.0 in /usr/local/lib/python3.10/dist-packages (from huggingface-hub>=0.15.1->sentence-transformers) (2024.5.0)\n",
            "Requirement already satisfied: packaging>=20.9 in /usr/local/lib/python3.10/dist-packages (from huggingface-hub>=0.15.1->sentence-transformers) (24.1)\n",
            "Requirement already satisfied: pyyaml>=5.1 in /usr/local/lib/python3.10/dist-packages (from huggingface-hub>=0.15.1->sentence-transformers) (6.0.1)\n",
            "Requirement already satisfied: requests in /usr/local/lib/python3.10/dist-packages (from huggingface-hub>=0.15.1->sentence-transformers) (2.32.3)\n",
            "Requirement already satisfied: typing-extensions>=3.7.4.3 in /usr/local/lib/python3.10/dist-packages (from huggingface-hub>=0.15.1->sentence-transformers) (4.12.2)\n",
            "Requirement already satisfied: sympy in /usr/local/lib/python3.10/dist-packages (from torch>=1.11.0->sentence-transformers) (1.13.1)\n",
            "Requirement already satisfied: networkx in /usr/local/lib/python3.10/dist-packages (from torch>=1.11.0->sentence-transformers) (3.3)\n",
            "Requirement already satisfied: jinja2 in /usr/local/lib/python3.10/dist-packages (from torch>=1.11.0->sentence-transformers) (3.1.4)\n",
            "Requirement already satisfied: nvidia-cuda-nvrtc-cu12==12.1.105 in /usr/local/lib/python3.10/dist-packages (from torch>=1.11.0->sentence-transformers) (12.1.105)\n",
            "Requirement already satisfied: nvidia-cuda-runtime-cu12==12.1.105 in /usr/local/lib/python3.10/dist-packages (from torch>=1.11.0->sentence-transformers) (12.1.105)\n",
            "Requirement already satisfied: nvidia-cuda-cupti-cu12==12.1.105 in /usr/local/lib/python3.10/dist-packages (from torch>=1.11.0->sentence-transformers) (12.1.105)\n",
            "Requirement already satisfied: nvidia-cudnn-cu12==8.9.2.26 in /usr/local/lib/python3.10/dist-packages (from torch>=1.11.0->sentence-transformers) (8.9.2.26)\n",
            "Requirement already satisfied: nvidia-cublas-cu12==12.1.3.1 in /usr/local/lib/python3.10/dist-packages (from torch>=1.11.0->sentence-transformers) (12.1.3.1)\n",
            "Requirement already satisfied: nvidia-cufft-cu12==11.0.2.54 in /usr/local/lib/python3.10/dist-packages (from torch>=1.11.0->sentence-transformers) (11.0.2.54)\n",
            "Requirement already satisfied: nvidia-curand-cu12==10.3.2.106 in /usr/local/lib/python3.10/dist-packages (from torch>=1.11.0->sentence-transformers) (10.3.2.106)\n",
            "Requirement already satisfied: nvidia-cusolver-cu12==11.4.5.107 in /usr/local/lib/python3.10/dist-packages (from torch>=1.11.0->sentence-transformers) (11.4.5.107)\n",
            "Requirement already satisfied: nvidia-cusparse-cu12==12.1.0.106 in /usr/local/lib/python3.10/dist-packages (from torch>=1.11.0->sentence-transformers) (12.1.0.106)\n",
            "Requirement already satisfied: nvidia-nccl-cu12==2.20.5 in /usr/local/lib/python3.10/dist-packages (from torch>=1.11.0->sentence-transformers) (2.20.5)\n",
            "Requirement already satisfied: nvidia-nvtx-cu12==12.1.105 in /usr/local/lib/python3.10/dist-packages (from torch>=1.11.0->sentence-transformers) (12.1.105)\n",
            "Requirement already satisfied: triton==2.3.1 in /usr/local/lib/python3.10/dist-packages (from torch>=1.11.0->sentence-transformers) (2.3.1)\n",
            "Requirement already satisfied: nvidia-nvjitlink-cu12 in /usr/local/lib/python3.10/dist-packages (from nvidia-cusolver-cu12==11.4.5.107->torch>=1.11.0->sentence-transformers) (12.6.20)\n",
            "Requirement already satisfied: regex!=2019.12.17 in /usr/local/lib/python3.10/dist-packages (from transformers<5.0.0,>=4.34.0->sentence-transformers) (2024.5.15)\n",
            "Requirement already satisfied: safetensors>=0.4.1 in /usr/local/lib/python3.10/dist-packages (from transformers<5.0.0,>=4.34.0->sentence-transformers) (0.4.3)\n",
            "Requirement already satisfied: tokenizers<0.20,>=0.19 in /usr/local/lib/python3.10/dist-packages (from transformers<5.0.0,>=4.34.0->sentence-transformers) (0.19.1)\n",
            "Requirement already satisfied: joblib>=1.1.1 in /usr/local/lib/python3.10/dist-packages (from scikit-learn->sentence-transformers) (1.4.2)\n",
            "Requirement already satisfied: threadpoolctl>=2.0.0 in /usr/local/lib/python3.10/dist-packages (from scikit-learn->sentence-transformers) (3.5.0)\n",
            "Requirement already satisfied: MarkupSafe>=2.0 in /usr/local/lib/python3.10/dist-packages (from jinja2->torch>=1.11.0->sentence-transformers) (2.1.5)\n",
            "Requirement already satisfied: charset-normalizer<4,>=2 in /usr/local/lib/python3.10/dist-packages (from requests->huggingface-hub>=0.15.1->sentence-transformers) (3.3.2)\n",
            "Requirement already satisfied: idna<4,>=2.5 in /usr/local/lib/python3.10/dist-packages (from requests->huggingface-hub>=0.15.1->sentence-transformers) (3.7)\n",
            "Requirement already satisfied: urllib3<3,>=1.21.1 in /usr/local/lib/python3.10/dist-packages (from requests->huggingface-hub>=0.15.1->sentence-transformers) (2.0.7)\n",
            "Requirement already satisfied: certifi>=2017.4.17 in /usr/local/lib/python3.10/dist-packages (from requests->huggingface-hub>=0.15.1->sentence-transformers) (2024.7.4)\n",
            "Requirement already satisfied: mpmath<1.4,>=1.1.0 in /usr/local/lib/python3.10/dist-packages (from sympy->torch>=1.11.0->sentence-transformers) (1.3.0)\n"
          ]
        }
      ]
    },
    {
      "cell_type": "code",
      "source": [
        "sentence_1 = \"#Bitcoin is up 34% since Bank of England Governor said Be prepared to lose all your money in BTC and crypto.\"\n",
        "sentence_2 =  \"One of the biggest bull traps I've ever seen\""
      ],
      "metadata": {
        "id": "bVoH3fcTt_dq"
      },
      "execution_count": 6,
      "outputs": []
    },
    {
      "cell_type": "code",
      "source": [
        "!pip install -Uqqq pip --progress-bar off"
      ],
      "metadata": {
        "id": "ZfDqj1UJunF3"
      },
      "execution_count": 7,
      "outputs": []
    },
    {
      "cell_type": "code",
      "source": [
        "from sentence_transformers import SentenceTransformer, util"
      ],
      "metadata": {
        "id": "bvz2usTBwpfr"
      },
      "execution_count": 8,
      "outputs": []
    },
    {
      "cell_type": "code",
      "source": [
        "model = SentenceTransformer(\"sentence-transformers/all-mpnet-base-v2\")"
      ],
      "metadata": {
        "colab": {
          "base_uri": "https://localhost:8080/"
        },
        "id": "OOvhpAHhxVLH",
        "outputId": "d3f87af8-6c4c-445d-817c-ac759e6258ee"
      },
      "execution_count": 9,
      "outputs": [
        {
          "output_type": "stream",
          "name": "stderr",
          "text": [
            "/usr/local/lib/python3.10/dist-packages/huggingface_hub/utils/_token.py:89: UserWarning: \n",
            "The secret `HF_TOKEN` does not exist in your Colab secrets.\n",
            "To authenticate with the Hugging Face Hub, create a token in your settings tab (https://huggingface.co/settings/tokens), set it as secret in your Google Colab and restart your session.\n",
            "You will be able to reuse this secret in all of your notebooks.\n",
            "Please note that authentication is recommended but still optional to access public models or datasets.\n",
            "  warnings.warn(\n"
          ]
        }
      ]
    },
    {
      "cell_type": "code",
      "source": [
        "model.max_seq_length"
      ],
      "metadata": {
        "colab": {
          "base_uri": "https://localhost:8080/"
        },
        "id": "z8NZ1Ru9yBFN",
        "outputId": "961a39c1-d090-443d-f980-506729d1e354"
      },
      "execution_count": 10,
      "outputs": [
        {
          "output_type": "execute_result",
          "data": {
            "text/plain": [
              "384"
            ]
          },
          "metadata": {},
          "execution_count": 10
        }
      ]
    },
    {
      "cell_type": "code",
      "source": [
        "corpus = [\n",
        "\"#Bitcoin is up 34% since Bank of England Governor said 'Be prepared to lose all your money in BTC and crypto.'\", \"One of the biggest bull traps I've ever seen\",\n",
        "\"How I sleep knowing ethereum is going to 10k in 2023\",\n",
        "\"Bitcoin is a scam\",\n",
        "\"IS THE SBTC BOTTOM IN? Are you team BULL or team BEAR? Do you have the DATA to prove your point??\",\n",
        "\"I will stop bragging about calling the top when I start bragging about calling the bottom. #bitcoin\",\n",
        "\"First powerlifting meet of the year and a new squat PR!!\",\n",
        "\"On January 9th, 2023, the American Academy of Pediatrics published new guidelines treating obesity in children and adolescents\",\n",
        "\"What's worse, someone dropping the bar from the top of a deadlift or not putting their shopping cart away?\",\n",
        "\" The sport of powerlifting includes squat bench and deadlift. But the concept of powerlifting is Force Mass x Acceleration.\"\n",
        "]"
      ],
      "metadata": {
        "id": "LuzdY430yUkH"
      },
      "execution_count": 11,
      "outputs": []
    },
    {
      "cell_type": "code",
      "source": [
        "corpus_embeddings = model.encode(corpus,show_progress_bar=True,convert_to_tensor=True)"
      ],
      "metadata": {
        "colab": {
          "base_uri": "https://localhost:8080/",
          "height": 49,
          "referenced_widgets": [
            "3f6d55cea2bf4975943978e77de22810",
            "732099a6e2374a5fa2fb76fbdb95c026",
            "47e54ee3e5184758935d9f0b59bd906b",
            "ef46576d43844a209954121445c02813",
            "90b86d75821643159fb8f50d2a9c6216",
            "f652c212969e4cb3a1a21c708c061977",
            "758ad727533f4e24932e28c46d948bec",
            "f2b847640123435399c9eea20af1a8ec",
            "966ab6c988f4461f869c3587f0c5a48c",
            "d6d135106ca345b09a80fd5ffac4ad2e",
            "ad5f8a83f5544710a602015c4ff11890"
          ]
        },
        "id": "ELBZRCfnzCDz",
        "outputId": "5ef59968-61bc-47fa-e5f8-cc8fdd377ef9"
      },
      "execution_count": 12,
      "outputs": [
        {
          "output_type": "display_data",
          "data": {
            "text/plain": [
              "Batches:   0%|          | 0/1 [00:00<?, ?it/s]"
            ],
            "application/vnd.jupyter.widget-view+json": {
              "version_major": 2,
              "version_minor": 0,
              "model_id": "3f6d55cea2bf4975943978e77de22810"
            }
          },
          "metadata": {}
        }
      ]
    },
    {
      "cell_type": "code",
      "source": [
        "corpus_embeddings.shape"
      ],
      "metadata": {
        "colab": {
          "base_uri": "https://localhost:8080/"
        },
        "id": "ZDXyIeFFzUXv",
        "outputId": "998a35d4-e7ba-46c9-945d-0a8883b8f578"
      },
      "execution_count": 13,
      "outputs": [
        {
          "output_type": "execute_result",
          "data": {
            "text/plain": [
              "torch.Size([10, 768])"
            ]
          },
          "metadata": {},
          "execution_count": 13
        }
      ]
    },
    {
      "cell_type": "code",
      "source": [
        "query = \"how high will be bitcoin\""
      ],
      "metadata": {
        "id": "vwbjjOutzeiK"
      },
      "execution_count": 14,
      "outputs": []
    },
    {
      "cell_type": "code",
      "source": [
        "query_embedding = model.encode(query,convert_to_tensor=True)"
      ],
      "metadata": {
        "id": "0x_UiZ5AztGD"
      },
      "execution_count": 15,
      "outputs": []
    },
    {
      "cell_type": "code",
      "source": [
        "query_embedding"
      ],
      "metadata": {
        "colab": {
          "base_uri": "https://localhost:8080/"
        },
        "id": "GRSYGNNGz0N-",
        "outputId": "5b8e801d-0a13-4952-8614-2f9ae0e35f82"
      },
      "execution_count": 16,
      "outputs": [
        {
          "output_type": "execute_result",
          "data": {
            "text/plain": [
              "tensor([-3.3793e-02,  1.6598e-02, -4.1849e-02,  4.8671e-03,  4.0209e-02,\n",
              "        -1.9571e-02, -4.5454e-02, -1.2986e-02,  4.1175e-02, -4.7348e-03,\n",
              "         5.1154e-03,  2.9511e-05, -3.3897e-02,  1.2314e-01, -2.5477e-03,\n",
              "        -5.5161e-02,  3.3595e-02, -2.5237e-03,  9.9003e-04, -3.3011e-02,\n",
              "        -3.3135e-03, -4.9212e-02,  3.4813e-02, -1.2339e-02, -2.2351e-02,\n",
              "        -1.5709e-03,  3.0748e-02,  2.3593e-02, -4.3517e-02, -9.2837e-03,\n",
              "        -5.0237e-02, -1.9132e-02, -5.5968e-02,  1.3551e-02,  1.4722e-06,\n",
              "        -3.3751e-02,  7.6347e-03,  4.1565e-02, -2.4727e-02, -8.2647e-02,\n",
              "        -8.6560e-02, -2.3749e-02, -4.7258e-03,  1.4648e-02, -3.4390e-02,\n",
              "         3.8897e-02, -5.1706e-02,  2.5782e-02, -1.7911e-02,  2.6679e-02,\n",
              "         1.9802e-03, -5.6009e-02,  5.6549e-02,  1.8522e-02,  8.1222e-03,\n",
              "        -2.5320e-02,  1.7575e-02,  5.7294e-02, -1.5192e-02,  4.1968e-02,\n",
              "         5.5158e-03,  1.7219e-02,  2.0678e-02,  5.8989e-04,  6.6354e-03,\n",
              "         3.1803e-02,  2.4317e-02,  2.9280e-02, -2.7551e-02, -3.5077e-02,\n",
              "        -8.2034e-03, -1.6480e-02,  1.2290e-02,  1.9435e-02,  1.6636e-02,\n",
              "        -1.4282e-02, -1.2315e-02, -1.6731e-02,  2.2070e-02,  3.1684e-02,\n",
              "         6.6166e-02, -2.6313e-02, -5.1553e-02,  8.4444e-03,  3.6121e-02,\n",
              "         7.7622e-03, -5.3883e-02,  5.1319e-03,  2.8075e-02, -4.2183e-03,\n",
              "         2.2542e-02,  6.1242e-02, -2.2294e-02, -2.8059e-02, -5.4429e-02,\n",
              "         2.1794e-02, -8.2739e-03, -1.4633e-02,  1.7716e-02, -1.0473e-01,\n",
              "        -3.2038e-02, -4.3438e-03,  5.8729e-02,  3.4898e-02, -3.2059e-02,\n",
              "        -4.8827e-02, -5.0995e-02, -2.8026e-02,  5.1775e-02,  1.1533e-02,\n",
              "         2.2163e-02, -4.0732e-04, -1.4807e-02, -2.5116e-02,  8.6670e-03,\n",
              "         2.0613e-02, -1.0469e-02, -1.8493e-02,  8.7298e-03, -8.2118e-03,\n",
              "         3.0454e-02,  5.9668e-03, -2.3077e-02, -2.4900e-03,  1.0790e-02,\n",
              "         3.4001e-02, -5.4212e-02, -1.0931e-02,  6.0020e-03, -7.6189e-03,\n",
              "         3.9149e-02, -1.2526e-02,  2.8090e-02,  2.7142e-02, -2.3973e-02,\n",
              "         2.1372e-02,  8.3084e-03,  2.6212e-02,  1.5963e-02, -1.2692e-02,\n",
              "         1.8483e-02,  4.2524e-02, -1.9655e-02, -6.9620e-03, -1.4162e-01,\n",
              "         1.9547e-02, -4.3152e-03,  6.1634e-02, -1.0853e-02, -3.2655e-02,\n",
              "        -1.6695e-02,  1.4195e-02, -2.8887e-02, -1.6489e-02,  4.5610e-02,\n",
              "        -2.1790e-03, -3.8503e-02, -4.6830e-02, -1.3208e-02,  7.0031e-02,\n",
              "        -5.2909e-03, -3.1624e-02, -7.5801e-03,  4.4156e-02, -6.1323e-02,\n",
              "        -3.9132e-04,  1.6950e-02, -9.4492e-03,  2.9956e-02, -9.3755e-03,\n",
              "        -4.8372e-02,  1.8843e-02,  3.6611e-02, -2.4447e-02,  6.1077e-02,\n",
              "        -4.7752e-02, -6.0517e-02,  3.3297e-03, -4.9958e-02,  2.1596e-02,\n",
              "        -1.8111e-02, -8.1081e-02, -3.1923e-02,  2.9264e-02,  2.5475e-02,\n",
              "         1.6993e-02,  4.4989e-02, -9.7748e-02, -3.5700e-02, -1.3158e-02,\n",
              "        -2.4470e-02, -2.4265e-02, -4.3041e-03, -4.5193e-02,  6.7520e-03,\n",
              "        -2.1243e-02, -5.5843e-02,  4.5326e-03, -1.3545e-03,  7.4479e-02,\n",
              "         2.4985e-02, -5.6487e-03,  9.5018e-02, -1.1719e-01, -9.5464e-04,\n",
              "         4.1173e-02,  9.6934e-02, -6.0049e-03, -1.2983e-03,  1.2466e-02,\n",
              "        -1.2370e-02, -2.4502e-03, -2.9480e-02,  3.6013e-02,  3.5201e-02,\n",
              "         4.3012e-02, -1.6509e-02,  9.2164e-03,  2.2787e-02,  3.0635e-02,\n",
              "        -1.3751e-02,  6.4080e-02,  4.5168e-02, -1.2743e-02, -1.0242e-02,\n",
              "         2.1614e-02, -4.0340e-02,  3.5020e-02,  2.8990e-02, -2.0435e-02,\n",
              "        -1.5539e-02,  1.2007e-02,  2.0067e-02, -1.8051e-02, -5.5084e-02,\n",
              "        -4.8580e-02,  2.3928e-02,  2.0879e-02,  1.2135e-02, -2.5601e-02,\n",
              "         1.1306e-02, -9.3825e-02,  2.1824e-02, -1.6253e-02,  4.3324e-02,\n",
              "        -2.5837e-02,  2.7043e-02, -2.7360e-03, -7.9734e-02, -3.5475e-03,\n",
              "         3.3920e-02,  6.4673e-02,  4.8249e-02,  2.4398e-02,  1.0246e-02,\n",
              "        -2.3373e-03, -4.4868e-03,  4.2525e-02,  3.0168e-02,  3.3627e-02,\n",
              "        -2.4352e-02, -3.3901e-02, -2.5993e-02,  3.0548e-02,  1.6777e-02,\n",
              "        -4.8324e-02,  3.1894e-04, -1.7435e-02, -6.2579e-02, -1.8237e-02,\n",
              "         6.8308e-02, -1.5490e-02, -2.9647e-03, -1.3598e-02, -3.8532e-02,\n",
              "        -1.8405e-02,  6.1616e-03,  4.1228e-02, -7.7914e-03, -4.0442e-03,\n",
              "         8.2825e-02,  2.7730e-02, -2.6443e-02,  3.8984e-03,  4.3710e-03,\n",
              "        -8.9265e-03,  8.3030e-02,  1.5311e-02,  4.2633e-02,  2.2150e-02,\n",
              "        -2.9134e-02,  2.1931e-02, -1.7990e-02, -2.5136e-02,  3.4794e-02,\n",
              "         4.3818e-02,  2.1391e-02, -6.2236e-02,  6.7185e-03, -1.4962e-02,\n",
              "         3.3838e-03,  3.9930e-02,  1.9544e-02,  1.4889e-02, -4.2022e-03,\n",
              "        -1.0568e-02,  8.2346e-03,  3.7952e-02, -1.3757e-02,  8.4780e-02,\n",
              "         3.2408e-02,  4.1614e-02,  8.9901e-04,  1.3939e-02, -1.2926e-02,\n",
              "        -4.1081e-02, -2.0127e-03,  4.8778e-02, -5.2754e-02,  2.0509e-02,\n",
              "         8.3170e-03, -4.2119e-02,  2.9511e-02,  1.8873e-02,  3.8365e-02,\n",
              "         5.6704e-02,  3.6397e-02,  9.7025e-03,  8.3182e-03,  9.7978e-03,\n",
              "         1.8310e-02, -5.4423e-02,  5.7878e-03,  2.3701e-03, -1.4147e-02,\n",
              "        -7.9382e-02, -3.9346e-02, -6.2144e-02, -4.9236e-02, -4.4450e-03,\n",
              "        -4.1141e-03, -8.5212e-03, -8.9064e-03,  3.6124e-03, -3.8729e-02,\n",
              "        -4.4065e-03,  3.1032e-02,  2.3829e-02,  6.5519e-02, -4.0082e-02,\n",
              "        -1.8311e-02, -2.7979e-02,  5.1953e-03, -2.4827e-02,  4.4974e-03,\n",
              "         1.7556e-02,  2.2943e-02, -4.6421e-02, -3.1081e-02,  4.3429e-02,\n",
              "        -2.7486e-03, -2.0408e-03, -4.3214e-02,  9.0327e-02, -1.0710e-02,\n",
              "        -2.1051e-02,  2.2999e-02,  4.9801e-02,  1.4551e-02,  3.0317e-02,\n",
              "        -3.3836e-02,  3.5749e-02, -5.0772e-03,  4.1876e-02,  6.7006e-03,\n",
              "         2.8227e-02,  4.9254e-03, -1.5294e-02, -3.9791e-02, -5.4006e-03,\n",
              "         1.2594e-02, -3.9612e-02,  2.2761e-02, -2.4945e-02, -4.8470e-02,\n",
              "        -4.8432e-02,  2.5677e-04,  1.8736e-02, -3.7869e-02,  2.6599e-02,\n",
              "        -4.2609e-02,  5.3288e-02,  5.3861e-02, -6.2930e-02, -2.5197e-02,\n",
              "         4.2883e-02,  2.5821e-02, -5.2852e-02, -4.4994e-03,  1.0540e-02,\n",
              "         1.9864e-02, -1.9058e-02,  6.0943e-02,  5.6150e-02, -7.9789e-03,\n",
              "        -3.1657e-02,  6.6596e-02,  1.0800e-01, -6.2193e-02,  1.8708e-03,\n",
              "        -9.1840e-02,  1.8126e-02,  1.8519e-02, -1.6419e-02,  8.0312e-02,\n",
              "         4.7265e-02, -1.7742e-02, -2.4263e-02,  3.3253e-02, -7.6528e-03,\n",
              "         6.3140e-02,  1.9250e-02, -4.2296e-02,  3.2075e-02, -8.9680e-02,\n",
              "        -2.8998e-02, -3.0098e-02, -3.3134e-02, -2.2362e-02, -8.9702e-03,\n",
              "         2.0497e-02, -1.2662e-04, -2.3645e-02,  8.8158e-02, -1.9325e-02,\n",
              "         3.4631e-02, -2.4068e-02,  3.6714e-02,  5.4867e-02,  4.7047e-03,\n",
              "         1.1637e-02, -6.1426e-02,  3.9255e-03,  1.3630e-03,  6.6895e-02,\n",
              "         7.6519e-02,  3.6820e-02,  1.4156e-02, -9.1836e-03,  1.1355e-02,\n",
              "         3.6785e-02, -1.0218e-01,  2.2507e-02,  6.7738e-02, -3.2850e-02,\n",
              "        -4.0531e-03, -2.9300e-02, -2.4019e-02,  1.4769e-02, -9.0812e-03,\n",
              "         2.3827e-02,  6.4503e-03, -2.8716e-02, -1.2623e-03, -2.7726e-02,\n",
              "         1.7441e-02, -7.2585e-03,  4.0276e-02, -7.2303e-03, -1.4940e-02,\n",
              "         4.0419e-02, -4.5488e-02,  2.1586e-02, -1.1002e-02,  2.1594e-02,\n",
              "        -2.2214e-02, -8.8932e-02, -9.4952e-03, -6.0520e-03, -1.6890e-02,\n",
              "         3.3696e-02,  3.4476e-03, -1.3113e-02,  3.0587e-02,  3.4771e-03,\n",
              "        -3.7225e-02,  1.6530e-02,  1.7716e-03,  6.2480e-03, -2.2552e-02,\n",
              "         1.7206e-02, -1.0098e-03, -4.7228e-02,  3.6874e-02,  6.6398e-02,\n",
              "        -6.0522e-02,  6.2829e-03, -3.6820e-02, -1.2063e-01,  3.8706e-02,\n",
              "        -1.4948e-02,  2.7851e-03, -3.3185e-02, -4.2250e-02, -1.5551e-03,\n",
              "         4.6438e-02, -3.2350e-03,  3.7719e-02, -5.1435e-02, -3.0695e-02,\n",
              "         4.2064e-02,  2.7345e-03,  2.0044e-02, -3.4949e-02,  4.1018e-02,\n",
              "         7.5982e-02, -5.8453e-02,  5.4654e-02,  1.2170e-02, -3.4508e-02,\n",
              "         2.7201e-02, -1.2914e-02,  1.6756e-02, -1.7717e-02, -7.5473e-03,\n",
              "        -1.5111e-02, -2.4321e-02, -6.1621e-02,  2.6663e-02,  4.9222e-02,\n",
              "         2.8567e-02, -6.0677e-02, -9.0509e-03, -2.9351e-02,  1.1973e-02,\n",
              "         6.5233e-02, -3.9396e-02, -1.6937e-02,  3.6816e-02,  7.6813e-02,\n",
              "         2.2408e-02,  7.4821e-03, -5.5666e-03,  3.1256e-02, -4.5896e-02,\n",
              "        -3.6090e-03,  4.9472e-03, -1.8691e-02, -3.2199e-02,  1.4693e-02,\n",
              "         3.1095e-02,  1.7586e-02, -5.7775e-02,  1.4624e-02, -6.0195e-02,\n",
              "        -5.1538e-33, -3.2850e-02, -8.5560e-03, -1.1520e-02,  4.3667e-02,\n",
              "         1.3063e-02,  4.3007e-02, -5.0407e-03,  3.1401e-02, -7.6186e-02,\n",
              "        -5.1768e-03, -4.1992e-02, -1.0852e-02,  2.5075e-02,  4.4222e-02,\n",
              "         4.5554e-02, -1.6781e-02,  9.6572e-03,  1.3188e-02,  3.7850e-02,\n",
              "        -3.8675e-02, -2.3060e-02,  3.4385e-02,  1.1988e-01,  2.8041e-02,\n",
              "         5.8054e-02, -3.5487e-03, -1.2554e-02, -3.9175e-02, -5.5899e-03,\n",
              "        -3.3597e-02,  1.0595e-02,  1.0399e-02,  1.2745e-02, -3.0310e-02,\n",
              "         4.9134e-02, -5.9950e-02, -2.9012e-03, -2.9766e-02, -6.1541e-02,\n",
              "         1.9395e-02, -3.4054e-02,  1.8043e-02,  2.0626e-02, -2.1707e-03,\n",
              "        -3.4026e-02, -1.6478e-03,  2.5560e-02,  9.3591e-03, -4.1481e-02,\n",
              "        -8.0590e-02,  5.4404e-03,  2.9377e-03, -5.2413e-03,  4.7651e-02,\n",
              "        -7.8088e-02,  3.8589e-02,  4.2790e-03, -2.0652e-02, -1.1601e-02,\n",
              "         2.3894e-02, -1.6037e-02,  3.3961e-02, -5.7407e-02, -1.6736e-03,\n",
              "         8.7016e-02,  5.0338e-02, -5.7601e-03,  1.2265e-02,  6.1840e-02,\n",
              "        -3.0973e-02, -2.2671e-02,  2.3341e-02, -2.1783e-02,  2.4192e-02,\n",
              "         6.1786e-02, -4.2511e-02,  3.4067e-02,  5.5762e-02,  5.2517e-02,\n",
              "        -1.4974e-02, -2.2643e-02, -9.8318e-03, -5.5527e-02,  3.2593e-02,\n",
              "        -2.3200e-04,  5.9986e-02,  5.2422e-02, -5.8842e-02, -9.2903e-03,\n",
              "         2.9422e-02,  9.1834e-03,  2.8223e-02, -5.2186e-03, -3.3945e-02,\n",
              "        -1.2194e-02,  2.3871e-02,  5.1011e-02,  1.6399e-02, -3.7350e-02,\n",
              "         2.0692e-02,  3.0566e-02, -3.1765e-02, -1.0831e-02, -3.7059e-02,\n",
              "        -4.0802e-02,  3.5244e-02, -4.7065e-02,  8.1204e-03,  3.0567e-02,\n",
              "         2.4502e-03,  9.1971e-03, -9.9330e-03,  4.2837e-02,  2.1106e-02,\n",
              "        -5.7298e-02, -5.1123e-02,  1.5334e-02, -2.9910e-02, -4.4026e-02,\n",
              "         2.0111e-02,  5.7957e-02, -6.9230e-03, -7.4966e-03, -1.0647e-02,\n",
              "        -2.9974e-02, -5.1675e-02, -6.3174e-02,  3.1739e-03, -4.6182e-02,\n",
              "        -5.5124e-02,  3.6699e-04,  3.0637e-02,  2.1524e-07, -6.9089e-03,\n",
              "        -1.5796e-02, -2.9777e-03,  4.7084e-02,  2.6909e-02,  6.1824e-02,\n",
              "         8.3204e-03, -3.6283e-02, -2.0925e-02, -3.2727e-02, -4.6341e-02,\n",
              "        -1.0986e-02,  7.2935e-03,  2.8577e-02, -9.2734e-03, -3.1230e-02,\n",
              "        -2.9566e-02, -3.7318e-02, -2.9862e-03, -1.7993e-03,  1.0769e-02,\n",
              "         6.1361e-02, -5.6029e-03,  1.0839e-02,  1.9462e-03, -6.0101e-02,\n",
              "         9.7857e-03, -5.6864e-02, -3.1881e-02, -2.5309e-02, -4.3206e-02,\n",
              "         4.0265e-02,  2.8502e-02, -6.5393e-02, -9.1441e-03, -1.6134e-02,\n",
              "        -2.2928e-03, -4.0708e-02,  8.4183e-03,  2.1440e-02,  3.4045e-02,\n",
              "        -5.7851e-02,  1.4526e-02, -1.5526e-02,  1.4569e-02, -1.2312e-02,\n",
              "        -3.2991e-02, -1.8527e-02,  1.3824e-02,  3.7353e-02,  2.0754e-02,\n",
              "        -2.3480e-02, -2.9317e-02, -2.9826e-02,  1.8554e-02, -2.6753e-02,\n",
              "        -8.8458e-03,  3.2777e-02,  9.0449e-03, -5.7569e-03, -6.4064e-02,\n",
              "         1.4520e-02,  1.7199e-02,  6.8703e-02, -1.9244e-02,  2.1184e-02,\n",
              "         4.3835e-02,  7.1223e-35,  2.9437e-03, -2.7359e-02,  7.5391e-03,\n",
              "         2.4416e-02,  3.5238e-02,  2.8199e-02,  2.8477e-02, -1.3697e-02,\n",
              "         4.5184e-03,  3.1370e-02, -1.0348e-02])"
            ]
          },
          "metadata": {},
          "execution_count": 16
        }
      ]
    },
    {
      "cell_type": "code",
      "source": [
        "util.cos_sim(query_embedding,corpus_embeddings[0])"
      ],
      "metadata": {
        "colab": {
          "base_uri": "https://localhost:8080/"
        },
        "id": "gNFRTuVxz1-f",
        "outputId": "7f2dfc4f-3ee2-4c5e-a377-bad01ae2160a"
      },
      "execution_count": 17,
      "outputs": [
        {
          "output_type": "execute_result",
          "data": {
            "text/plain": [
              "tensor([[0.4826]])"
            ]
          },
          "metadata": {},
          "execution_count": 17
        }
      ]
    },
    {
      "cell_type": "code",
      "source": [
        "sentence1_embedding = model.encode(sentence_1,convert_to_tensor=True)\n",
        "sentence2_embedding = model.encode(sentence_2,convert_to_tensor=True)"
      ],
      "metadata": {
        "id": "-sQRe5EK0E8T"
      },
      "execution_count": 18,
      "outputs": []
    },
    {
      "cell_type": "code",
      "source": [
        "util.cos_sim(sentence1_embedding,sentence2_embedding)"
      ],
      "metadata": {
        "colab": {
          "base_uri": "https://localhost:8080/"
        },
        "id": "8ZaoPbmC0WbW",
        "outputId": "e64af178-9cb4-4ac6-cfb5-bc242c0f5e86"
      },
      "execution_count": 19,
      "outputs": [
        {
          "output_type": "execute_result",
          "data": {
            "text/plain": [
              "tensor([[0.1334]])"
            ]
          },
          "metadata": {},
          "execution_count": 19
        }
      ]
    },
    {
      "cell_type": "code",
      "source": [
        "result = util.semantic_search(query_embedding,corpus_embeddings)[0]\n",
        "result"
      ],
      "metadata": {
        "colab": {
          "base_uri": "https://localhost:8080/"
        },
        "id": "7lW8kx6L0trE",
        "outputId": "171e3f93-a9d6-44df-be0f-a820d75a7897"
      },
      "execution_count": 20,
      "outputs": [
        {
          "output_type": "execute_result",
          "data": {
            "text/plain": [
              "[{'corpus_id': 2, 'score': 0.5038397312164307},\n",
              " {'corpus_id': 0, 'score': 0.4826172888278961},\n",
              " {'corpus_id': 5, 'score': 0.4214966297149658},\n",
              " {'corpus_id': 3, 'score': 0.4038848876953125},\n",
              " {'corpus_id': 4, 'score': 0.2667643129825592},\n",
              " {'corpus_id': 1, 'score': 0.08946854621171951},\n",
              " {'corpus_id': 6, 'score': 0.07887786626815796},\n",
              " {'corpus_id': 7, 'score': 0.054768506437540054},\n",
              " {'corpus_id': 8, 'score': -0.002571491291746497},\n",
              " {'corpus_id': 9, 'score': -0.0056485822424292564}]"
            ]
          },
          "metadata": {},
          "execution_count": 20
        }
      ]
    },
    {
      "cell_type": "code",
      "source": [
        "for item in result:\n",
        "  print(round(item[\"score\"],2), corpus[item[\"corpus_id\"]])"
      ],
      "metadata": {
        "colab": {
          "base_uri": "https://localhost:8080/"
        },
        "id": "KN3OanFq3V8U",
        "outputId": "c4000a2a-e468-4be2-ee2b-fabcbe89891c"
      },
      "execution_count": 21,
      "outputs": [
        {
          "output_type": "stream",
          "name": "stdout",
          "text": [
            "0.5 How I sleep knowing ethereum is going to 10k in 2023\n",
            "0.48 #Bitcoin is up 34% since Bank of England Governor said 'Be prepared to lose all your money in BTC and crypto.'\n",
            "0.42 I will stop bragging about calling the top when I start bragging about calling the bottom. #bitcoin\n",
            "0.4 Bitcoin is a scam\n",
            "0.27 IS THE SBTC BOTTOM IN? Are you team BULL or team BEAR? Do you have the DATA to prove your point??\n",
            "0.09 One of the biggest bull traps I've ever seen\n",
            "0.08 First powerlifting meet of the year and a new squat PR!!\n",
            "0.05 On January 9th, 2023, the American Academy of Pediatrics published new guidelines treating obesity in children and adolescents\n",
            "-0.0 What's worse, someone dropping the bar from the top of a deadlift or not putting their shopping cart away?\n",
            "-0.01  The sport of powerlifting includes squat bench and deadlift. But the concept of powerlifting is Force Mass x Acceleration.\n"
          ]
        }
      ]
    },
    {
      "cell_type": "code",
      "source": [
        "from sentence_transformers import  SentencesDataset, InputExample,losses\n",
        "from torch.utils.data import DataLoader"
      ],
      "metadata": {
        "id": "0gfgyRzF3oRr"
      },
      "execution_count": 22,
      "outputs": []
    },
    {
      "cell_type": "code",
      "source": [
        "dataset = SentencesDataset([\n",
        "    InputExample(\n",
        "        texts = [\n",
        "            \"#Bitcoin is up 34% since Bank of England Governor said Be prepared to lose all your money in BTC and crypto.\",\n",
        "            \"One of the biggest bull traps I've ever seen\"\n",
        "        ],label =0.9\n",
        "    )\n",
        "], model)"
      ],
      "metadata": {
        "id": "3tibDWi75pZb"
      },
      "execution_count": 23,
      "outputs": []
    },
    {
      "cell_type": "code",
      "source": [
        "dataloader = DataLoader(dataset,shuffle=True)\n",
        "loss = losses.CosineSimilarityLoss(model=model)"
      ],
      "metadata": {
        "id": "4dariMhQ6L1l"
      },
      "execution_count": 24,
      "outputs": []
    },
    {
      "cell_type": "code",
      "source": [
        "save_path = 'trained_model'"
      ],
      "metadata": {
        "id": "DsOrk92w6e_h"
      },
      "execution_count": 25,
      "outputs": []
    },
    {
      "cell_type": "code",
      "source": [
        "model.fit(train_objectives=[(dataloader,loss)],epochs=10,warmup_steps=10,output_path=save_path)"
      ],
      "metadata": {
        "colab": {
          "base_uri": "https://localhost:8080/",
          "height": 75,
          "referenced_widgets": [
            "ed056ef23c2d4708b34e6a163dfde743",
            "875356eeb159462a9a3508b3124685b8",
            "672047bc94314cb4ac3aea0079d335cb",
            "675303130ede43d3b31d87f96d1ea942",
            "95ae7e9727fb49d4bc41a3f3af0113c9",
            "016cd44b57b741fbb8be4560f60a8141",
            "d9db4f91991c46a9b67d296940363724",
            "93f7bf6ece874673bc1cb1c8c0816499",
            "7364972f360549a48251c23dac99cc8c",
            "34914e2335ff4ed6b1f4441099565a6a",
            "49bddeac190e4c928978dd087d02f24b",
            "afb6ead9ce854d86b898879198058a05",
            "1550878037744deb8f8006674e20f5fa",
            "8bb813d92d7e459daa0ed9fd6b853991",
            "a1c13e99cb5449b683dd559675a2c326",
            "1aba41654a754143b88226e71e9d404c",
            "547347d1ac73455b9bec5177e1bb8037",
            "60622379df674956ad01da8368693531",
            "a14ca4af85534c53a1ebdeaf8c2dbcc3",
            "a6dfd0f0972445c2a2d72719c70f0bb0",
            "7093842b0b074f7297d0d6e39e724042",
            "b13fd4ecf6d8412d9da553bdb2e1aa7c"
          ]
        },
        "id": "-fos2-P26lN2",
        "outputId": "d7026a1d-111d-42d4-9471-804f90fb1ec1"
      },
      "execution_count": 26,
      "outputs": [
        {
          "output_type": "display_data",
          "data": {
            "text/plain": [
              "<IPython.core.display.HTML object>"
            ],
            "text/html": [
              "\n",
              "    <div>\n",
              "      \n",
              "      <progress value='10' max='10' style='width:300px; height:20px; vertical-align: middle;'></progress>\n",
              "      [10/10 00:19, Epoch 10/10]\n",
              "    </div>\n",
              "    <table border=\"1\" class=\"dataframe\">\n",
              "  <thead>\n",
              " <tr style=\"text-align: left;\">\n",
              "      <th>Step</th>\n",
              "      <th>Training Loss</th>\n",
              "    </tr>\n",
              "  </thead>\n",
              "  <tbody>\n",
              "  </tbody>\n",
              "</table><p>"
            ]
          },
          "metadata": {}
        },
        {
          "output_type": "display_data",
          "data": {
            "text/plain": [
              "Computing widget examples:   0%|          | 0/1 [00:00<?, ?example/s]"
            ],
            "application/vnd.jupyter.widget-view+json": {
              "version_major": 2,
              "version_minor": 0,
              "model_id": "ed056ef23c2d4708b34e6a163dfde743"
            }
          },
          "metadata": {}
        },
        {
          "output_type": "display_data",
          "data": {
            "text/plain": [
              "Computing widget examples:   0%|          | 0/1 [00:00<?, ?example/s]"
            ],
            "application/vnd.jupyter.widget-view+json": {
              "version_major": 2,
              "version_minor": 0,
              "model_id": "afb6ead9ce854d86b898879198058a05"
            }
          },
          "metadata": {}
        }
      ]
    },
    {
      "cell_type": "code",
      "source": [
        "trained_model = SentenceTransformer(save_path)"
      ],
      "metadata": {
        "id": "tm5oZ1GW66V2"
      },
      "execution_count": 32,
      "outputs": []
    },
    {
      "cell_type": "code",
      "source": [
        "sentence1_embedding = trained_model.encode(sentence_1,convert_to_tensor=True)\n",
        "sentence2_embedding = trained_model.encode(sentence_2,convert_to_tensor=True)"
      ],
      "metadata": {
        "id": "3_Pw9nJKBgJj"
      },
      "execution_count": 34,
      "outputs": []
    },
    {
      "cell_type": "code",
      "source": [
        "util.cos_sim(sentence1_embedding,sentence2_embedding)"
      ],
      "metadata": {
        "colab": {
          "base_uri": "https://localhost:8080/"
        },
        "id": "q_I7_yOQBv86",
        "outputId": "ab30c644-7f68-4879-dff0-165745816aff"
      },
      "execution_count": 35,
      "outputs": [
        {
          "output_type": "execute_result",
          "data": {
            "text/plain": [
              "tensor([[0.8053]])"
            ]
          },
          "metadata": {},
          "execution_count": 35
        }
      ]
    },
    {
      "cell_type": "code",
      "source": [],
      "metadata": {
        "id": "tAzmiy-RCELT"
      },
      "execution_count": null,
      "outputs": []
    }
  ]
}