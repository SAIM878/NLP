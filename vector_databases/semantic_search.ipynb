{
 "cells": [
  {
   "cell_type": "code",
   "execution_count": 1,
   "id": "0c887f7f-c748-4d0d-b9ce-14c66c6244f8",
   "metadata": {},
   "outputs": [],
   "source": [
    "from qdrant_client import QdrantClient\n",
    "from qdrant_client.http import models\n",
    "import numpy as np\n",
    "from faker import Faker"
   ]
  },
  {
   "cell_type": "code",
   "execution_count": 2,
   "id": "4c6d2e34-9654-4f0d-99d2-518f80108348",
   "metadata": {},
   "outputs": [
    {
     "data": {
      "text/plain": [
       "<qdrant_client.qdrant_client.QdrantClient at 0x20a052f7ac0>"
      ]
     },
     "execution_count": 2,
     "metadata": {},
     "output_type": "execute_result"
    }
   ],
   "source": [
    "client = QdrantClient(host=\"localhost\",port=6333)\n",
    "client"
   ]
  },
  {
   "cell_type": "code",
   "execution_count": 4,
   "id": "22250967-8066-4ebd-9958-53fb7baefc5d",
   "metadata": {},
   "outputs": [
    {
     "data": {
      "text/plain": [
       "True"
      ]
     },
     "execution_count": 4,
     "metadata": {},
     "output_type": "execute_result"
    }
   ],
   "source": [
    "my_collection = \"first_collection\"\n",
    "client.create_collection(\n",
    "    collection_name = my_collection,\n",
    "    vectors_config= models.VectorParams(size = 100,distance=models.Distance.COSINE)\n",
    ")"
   ]
  },
  {
   "cell_type": "code",
   "execution_count": 5,
   "id": "ec66c773-aa9d-4a52-bd0a-eaabac407d0e",
   "metadata": {},
   "outputs": [],
   "source": [
    "data = np.random.uniform(low=-1.0,high=1.0,size=(1_000,100))\n",
    "index = list(range(1_000))"
   ]
  },
  {
   "cell_type": "code",
   "execution_count": 6,
   "id": "8eddceb1-889f-4eec-b0a3-9084756eb10e",
   "metadata": {},
   "outputs": [
    {
     "data": {
      "text/plain": [
       "(1000, 100)"
      ]
     },
     "execution_count": 6,
     "metadata": {},
     "output_type": "execute_result"
    }
   ],
   "source": [
    "data.shape"
   ]
  },
  {
   "cell_type": "code",
   "execution_count": 7,
   "id": "d27999e6-d8f6-45b6-946e-9737c1f423ee",
   "metadata": {},
   "outputs": [
    {
     "data": {
      "text/plain": [
       "array([[-0.26243889,  0.37837476,  0.78066389,  0.81543478,  0.12163599,\n",
       "         0.98527251,  0.91013734,  0.48162548, -0.4784776 ,  0.24584863],\n",
       "       [ 0.0705615 , -0.32073983,  0.41972394, -0.20733712,  0.09579856,\n",
       "         0.42461256,  0.04712729, -0.43496611,  0.69363004, -0.04421058]])"
      ]
     },
     "execution_count": 7,
     "metadata": {},
     "output_type": "execute_result"
    }
   ],
   "source": [
    "data[:2,:10]"
   ]
  },
  {
   "cell_type": "code",
   "execution_count": 8,
   "id": "0e792b4a-60a8-423f-874d-09df34c69dd7",
   "metadata": {},
   "outputs": [
    {
     "data": {
      "text/plain": [
       "[990, 991, 992, 993, 994, 995, 996, 997, 998, 999]"
      ]
     },
     "execution_count": 8,
     "metadata": {},
     "output_type": "execute_result"
    }
   ],
   "source": [
    "index[-10:]"
   ]
  },
  {
   "cell_type": "code",
   "execution_count": 9,
   "id": "b37865d0-2527-47f7-ae96-75391a84ef56",
   "metadata": {},
   "outputs": [
    {
     "data": {
      "text/plain": [
       "UpdateResult(operation_id=0, status=<UpdateStatus.COMPLETED: 'completed'>)"
      ]
     },
     "execution_count": 9,
     "metadata": {},
     "output_type": "execute_result"
    }
   ],
   "source": [
    "client.upsert(\n",
    "    collection_name = my_collection,\n",
    "    points = models.Batch(\n",
    "        ids= index,\n",
    "        vectors=data.tolist()\n",
    "    )\n",
    ")"
   ]
  },
  {
   "cell_type": "code",
   "execution_count": 10,
   "id": "6d267540-a990-4b29-886d-6f2e070ef661",
   "metadata": {},
   "outputs": [
    {
     "data": {
      "text/plain": [
       "[Record(id=10, payload={}, vector=None, shard_key=None, order_value=None),\n",
       " Record(id=14, payload={}, vector=None, shard_key=None, order_value=None),\n",
       " Record(id=100, payload={}, vector=None, shard_key=None, order_value=None)]"
      ]
     },
     "execution_count": 10,
     "metadata": {},
     "output_type": "execute_result"
    }
   ],
   "source": [
    "client.retrieve(\n",
    "    collection_name=my_collection,\n",
    "    ids = [10,14,100],\n",
    "    #with_vectors=True\n",
    ")"
   ]
  },
  {
   "cell_type": "code",
   "execution_count": 11,
   "id": "89444708-62f9-4e6d-9e58-1f8c37987569",
   "metadata": {},
   "outputs": [
    {
     "data": {
      "text/plain": [
       "('Charles Hodge', '5342 Madison Alley Suite 069\\nSwansonville, AL 85302')"
      ]
     },
     "execution_count": 11,
     "metadata": {},
     "output_type": "execute_result"
    }
   ],
   "source": [
    "fake_something = Faker()\n",
    "fake_something.name() , fake_something.address()"
   ]
  },
  {
   "cell_type": "code",
   "execution_count": 12,
   "id": "772b6586-8de7-46fa-af63-a0c21490df72",
   "metadata": {},
   "outputs": [],
   "source": [
    "payload = []\n",
    "for i in range(1000):\n",
    "    payload.append(\n",
    "        {\n",
    "            \"artist\":fake_something.name(),\n",
    "            \"song\" : \" \".join(fake_something.words()),\n",
    "            \"url_Song\" : fake_something.url(),\n",
    "            \"year\": fake_something.year(),\n",
    "            \"country\" : fake_something.country()\n",
    "        }\n",
    "    )"
   ]
  },
  {
   "cell_type": "code",
   "execution_count": 13,
   "id": "dccf4170-2df6-4885-9d54-71b09cd84b3f",
   "metadata": {},
   "outputs": [
    {
     "name": "stdout",
     "output_type": "stream",
     "text": [
      "{'artist': 'Nicole Hill', 'song': 'moment national owner', 'url_Song': 'http://bryant-lamb.biz/', 'year': '1987', 'country': 'Gabon'}\n"
     ]
    }
   ],
   "source": [
    "print(payload[1])"
   ]
  },
  {
   "cell_type": "code",
   "execution_count": 14,
   "id": "2af6c674-693e-4ff0-bad8-c8d697b12aa7",
   "metadata": {},
   "outputs": [
    {
     "data": {
      "text/plain": [
       "UpdateResult(operation_id=1, status=<UpdateStatus.COMPLETED: 'completed'>)"
      ]
     },
     "execution_count": 14,
     "metadata": {},
     "output_type": "execute_result"
    }
   ],
   "source": [
    "client.upsert(\n",
    "    collection_name = my_collection,\n",
    "    points = models.Batch(\n",
    "        ids = index,\n",
    "        vectors = data.tolist(),\n",
    "        payloads=payload\n",
    "    )\n",
    ")"
   ]
  },
  {
   "cell_type": "code",
   "execution_count": 15,
   "id": "ab0cae40-7b00-43f1-9e5a-8eb8d6177f32",
   "metadata": {},
   "outputs": [
    {
     "data": {
      "text/plain": [
       "[0.9040839916828014,\n",
       " 0.7540234434154545,\n",
       " 0.26258669514435407,\n",
       " 0.7747655367528976,\n",
       " 0.2386053982083729]"
      ]
     },
     "execution_count": 15,
     "metadata": {},
     "output_type": "execute_result"
    }
   ],
   "source": [
    "living_la_vida_loca = np.random.uniform(low=-1.0,high=1.0,size=(100)).tolist()\n",
    "living_la_vida_loca[:5]"
   ]
  },
  {
   "cell_type": "code",
   "execution_count": 16,
   "id": "c593e561-28a0-4fa8-a483-19cefbed449c",
   "metadata": {},
   "outputs": [
    {
     "data": {
      "text/plain": [
       "[ScoredPoint(id=672, version=1, score=0.3094275, payload={'artist': 'Tyler Ortiz', 'country': 'Kazakhstan', 'song': 'suddenly somebody add', 'url_Song': 'http://www.smith-rodriguez.com/', 'year': '2001'}, vector=None, shard_key=None, order_value=None),\n",
       " ScoredPoint(id=985, version=1, score=0.3003493, payload={'artist': 'Jennifer Barker', 'country': 'French Southern Territories', 'song': 'present might recognize', 'url_Song': 'http://www.briggs-ali.com/', 'year': '2002'}, vector=None, shard_key=None, order_value=None),\n",
       " ScoredPoint(id=412, version=1, score=0.26847097, payload={'artist': 'Mary Evans', 'country': 'El Salvador', 'song': 'interview grow side', 'url_Song': 'https://www.jones.org/', 'year': '2005'}, vector=None, shard_key=None, order_value=None),\n",
       " ScoredPoint(id=909, version=1, score=0.26511016, payload={'artist': 'Jeremy Price', 'country': 'Switzerland', 'song': 'environment born agency', 'url_Song': 'https://www.jones.com/', 'year': '1986'}, vector=None, shard_key=None, order_value=None),\n",
       " ScoredPoint(id=159, version=1, score=0.25445622, payload={'artist': 'Brenda Murphy', 'country': 'Zimbabwe', 'song': 'suffer charge world', 'url_Song': 'http://romero.com/', 'year': '2003'}, vector=None, shard_key=None, order_value=None)]"
      ]
     },
     "execution_count": 16,
     "metadata": {},
     "output_type": "execute_result"
    }
   ],
   "source": [
    "client.search(\n",
    "    collection_name = my_collection,\n",
    "    query_vector = living_la_vida_loca,\n",
    "    limit=5\n",
    ")"
   ]
  },
  {
   "cell_type": "code",
   "execution_count": 17,
   "id": "79004cdc-8a72-4434-8c92-44bdeac6bc22",
   "metadata": {},
   "outputs": [
    {
     "data": {
      "text/plain": [
       "Filter(should=None, min_should=None, must=[FieldCondition(key='country', match=MatchValue(value='Taiwan'), range=None, geo_bounding_box=None, geo_radius=None, geo_polygon=None, values_count=None)], must_not=None)"
      ]
     },
     "execution_count": 17,
     "metadata": {},
     "output_type": "execute_result"
    }
   ],
   "source": [
    "aussie_songs= models.Filter(\n",
    "    must = [\n",
    "        models.FieldCondition(\n",
    "            key=\"country\",match = models.MatchValue(value=\"Taiwan\")\n",
    "        )\n",
    "    ]\n",
    ")\n",
    "aussie_songs"
   ]
  },
  {
   "cell_type": "code",
   "execution_count": 18,
   "id": "a3e1cf4a-5b10-44c3-bf4b-da777597fc5d",
   "metadata": {},
   "outputs": [
    {
     "data": {
      "text/plain": [
       "[ScoredPoint(id=484, version=1, score=0.13764292, payload={'artist': 'Dawn Benton', 'country': 'Taiwan', 'song': 'herself themselves sit', 'url_Song': 'http://www.bruce.com/', 'year': '1993'}, vector=None, shard_key=None, order_value=None),\n",
       " ScoredPoint(id=360, version=1, score=0.0021311473, payload={'artist': 'Matthew Graves', 'country': 'Taiwan', 'song': 'yourself example thousand', 'url_Song': 'http://sloan.com/', 'year': '1984'}, vector=None, shard_key=None, order_value=None),\n",
       " ScoredPoint(id=628, version=1, score=-0.027391953, payload={'artist': 'Dr. Steven Andrade', 'country': 'Taiwan', 'song': 'these relationship present', 'url_Song': 'https://www.cervantes.com/', 'year': '2002'}, vector=None, shard_key=None, order_value=None)]"
      ]
     },
     "execution_count": 18,
     "metadata": {},
     "output_type": "execute_result"
    }
   ],
   "source": [
    "client.search(\n",
    "    collection_name = my_collection,\n",
    "    query_vector = living_la_vida_loca,\n",
    "    query_filter=aussie_songs,\n",
    "    limit=5\n",
    ")"
   ]
  },
  {
   "cell_type": "code",
   "execution_count": 19,
   "id": "fec7a2c6-51d5-4db1-bbb3-e6e8ec490598",
   "metadata": {},
   "outputs": [
    {
     "data": {
      "text/plain": [
       "[ScoredPoint(id=455, version=1, score=0.3103735, payload={'artist': 'Christopher Gonzalez', 'country': 'Eritrea', 'song': 'face talk also', 'url_Song': 'https://phillips.biz/', 'year': '1977'}, vector=None, shard_key=None, order_value=None),\n",
       " ScoredPoint(id=6, version=1, score=0.2744976, payload={'artist': 'Steven Nguyen', 'country': 'New Caledonia', 'song': 'yet blood generation', 'url_Song': 'http://www.thomas-martin.com/', 'year': '2013'}, vector=None, shard_key=None, order_value=None),\n",
       " ScoredPoint(id=298, version=1, score=0.27153775, payload={'artist': 'Michael Underwood', 'country': 'Albania', 'song': 'including his guess', 'url_Song': 'http://buck.com/', 'year': '1983'}, vector=None, shard_key=None, order_value=None),\n",
       " ScoredPoint(id=768, version=1, score=0.26983914, payload={'artist': 'Kent Brown', 'country': 'Saint Martin', 'song': 'ago it five', 'url_Song': 'http://www.roth-kennedy.biz/', 'year': '1970'}, vector=None, shard_key=None, order_value=None),\n",
       " ScoredPoint(id=220, version=1, score=0.26894945, payload={'artist': 'Cody Shaw', 'country': 'Uganda', 'song': 'whether mention town', 'url_Song': 'http://marshall.com/', 'year': '1996'}, vector=None, shard_key=None, order_value=None)]"
      ]
     },
     "execution_count": 19,
     "metadata": {},
     "output_type": "execute_result"
    }
   ],
   "source": [
    "client.recommend(\n",
    "    collection_name = my_collection,\n",
    "    #query_vector = living_la_vida_loca,\n",
    "    positive = [17],\n",
    "    negative = [100,444],\n",
    "    limit = 5\n",
    ")"
   ]
  }
 ],
 "metadata": {
  "kernelspec": {
   "display_name": "mamba",
   "language": "python",
   "name": "mamba"
  },
  "language_info": {
   "codemirror_mode": {
    "name": "ipython",
    "version": 3
   },
   "file_extension": ".py",
   "mimetype": "text/x-python",
   "name": "python",
   "nbconvert_exporter": "python",
   "pygments_lexer": "ipython3",
   "version": "3.10.7"
  }
 },
 "nbformat": 4,
 "nbformat_minor": 5
}
