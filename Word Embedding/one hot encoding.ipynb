{
 "cells": [
  {
   "cell_type": "code",
   "execution_count": 19,
   "id": "eb117d7e",
   "metadata": {
    "scrolled": false
   },
   "outputs": [
    {
     "name": "stdout",
     "output_type": "stream",
     "text": [
      "Vocabulary {'mat', 'tree', 'bird', 'in', 'cat', 'dog', 'on', 'the', 'hat'}\n",
      "Word to index {'mat': 0, 'tree': 1, 'bird': 2, 'in': 3, 'cat': 4, 'dog': 5, 'on': 6, 'the': 7, 'hat': 8}\n",
      "Encoded Matrix\n",
      " cat: [0, 0, 0, 0, 1, 0, 0, 0, 0] \n",
      " in: [0, 0, 0, 1, 0, 0, 0, 0, 0] \n",
      " the: [0, 0, 0, 0, 0, 0, 0, 1, 0] \n",
      " hat: [0, 0, 0, 0, 0, 0, 0, 0, 1] \n",
      " dog: [0, 0, 0, 0, 0, 1, 0, 0, 0] \n",
      " on: [0, 0, 0, 0, 0, 0, 1, 0, 0] \n",
      " the: [0, 0, 0, 0, 0, 0, 0, 1, 0] \n",
      " mat: [1, 0, 0, 0, 0, 0, 0, 0, 0] \n",
      " bird: [0, 0, 1, 0, 0, 0, 0, 0, 0] \n",
      " in: [0, 0, 0, 1, 0, 0, 0, 0, 0] \n",
      " the: [0, 0, 0, 0, 0, 0, 0, 1, 0] \n",
      " tree: [0, 1, 0, 0, 0, 0, 0, 0, 0] \n"
     ]
    }
   ],
   "source": [
    "def one_hot_encode(text):\n",
    "    words = text.split()\n",
    "    vocabulary = set(words)\n",
    "    words_to_index = {word: i for i,word in enumerate(vocabulary)}\n",
    "    one_hot_encode = []\n",
    "    for word in words:\n",
    "        one_hot_vector = [0] * len(vocabulary)\n",
    "        one_hot_vector[words_to_index[word]] = 1\n",
    "        one_hot_encode.append(one_hot_vector)\n",
    "    return one_hot_encode,words_to_index,vocabulary\n",
    "\n",
    "text = \"cat in the hat dog on the mat bird in the tree\"\n",
    "\n",
    "one_hot_encoded,word_to_index,vocabulary = one_hot_encode(text)\n",
    "print('Vocabulary', vocabulary)\n",
    "print(\"Word to index\", word_to_index)\n",
    "print(\"Encoded Matrix\")\n",
    "for word,encoding in zip(text.split(),one_hot_encoded):\n",
    "    print(f\" {word}: {encoding} \")"
   ]
  }
 ],
 "metadata": {
  "kernelspec": {
   "display_name": "Python 3 (ipykernel)",
   "language": "python",
   "name": "python3"
  },
  "language_info": {
   "codemirror_mode": {
    "name": "ipython",
    "version": 3
   },
   "file_extension": ".py",
   "mimetype": "text/x-python",
   "name": "python",
   "nbconvert_exporter": "python",
   "pygments_lexer": "ipython3",
   "version": "3.11.5"
  }
 },
 "nbformat": 4,
 "nbformat_minor": 5
}
